{
 "cells": [
  {
   "cell_type": "markdown",
   "id": "1b5578e8-643d-4935-ac1c-03ab8a1367f8",
   "metadata": {},
   "source": [
    "# 环境配置"
   ]
  },
  {
   "cell_type": "code",
   "execution_count": 1,
   "id": "bfdfaf82-18bb-402d-bffd-33e272774fa7",
   "metadata": {},
   "outputs": [
    {
     "name": "stdout",
     "output_type": "stream",
     "text": [
      "\u001b[33mWARNING: Running pip as the 'root' user can result in broken permissions and conflicting behaviour with the system package manager. It is recommended to use a virtual environment instead: https://pip.pypa.io/warnings/venv\u001b[0m\u001b[33m\n",
      "\u001b[0m\u001b[33mWARNING: Running pip as the 'root' user can result in broken permissions and conflicting behaviour with the system package manager. It is recommended to use a virtual environment instead: https://pip.pypa.io/warnings/venv\u001b[0m\u001b[33m\n",
      "\u001b[0m\u001b[33mWARNING: Running pip as the 'root' user can result in broken permissions and conflicting behaviour with the system package manager. It is recommended to use a virtual environment instead: https://pip.pypa.io/warnings/venv\u001b[0m\u001b[33m\n",
      "\u001b[0m\u001b[33mWARNING: Running pip as the 'root' user can result in broken permissions and conflicting behaviour with the system package manager. It is recommended to use a virtual environment instead: https://pip.pypa.io/warnings/venv\u001b[0m\u001b[33m\n",
      "\u001b[0m\u001b[33mWARNING: Running pip as the 'root' user can result in broken permissions and conflicting behaviour with the system package manager. It is recommended to use a virtual environment instead: https://pip.pypa.io/warnings/venv\u001b[0m\u001b[33m\n",
      "\u001b[0m"
     ]
    }
   ],
   "source": [
    "!pip install -q -U bitsandbytes\n",
    "!pip install -q -U peft\n",
    "!pip install -q -U trl\n",
    "!pip install -q -U tensorboardX\n",
    "!pip install -q wandb"
   ]
  },
  {
   "cell_type": "code",
   "execution_count": null,
   "id": "096c144e-3926-4366-94ba-069654ed2a60",
   "metadata": {},
   "outputs": [],
   "source": [
    "from enum import Enum\n",
    "from functools import partial\n",
    "import pandas as pd\n",
    "import torch\n",
    "import json\n",
    "\n",
    "from transformers import AutoModelForCausalLM, AutoTokenizer, set_seed\n",
    "from datasets import load_dataset\n",
    "from trl import SFTConfig, SFTTrainer\n",
    "from peft import LoraConfig, TaskType\n",
    "\n",
    "seed = 42\n",
    "set_seed(seed)\n",
    "\n",
    "import os\n",
    "!export HF_ENDPOINT=https://hf-mirror.com\n",
    "os.environ['HF_TOKEN']=\"1\""
   ]
  },
  {
   "cell_type": "code",
   "execution_count": 6,
   "id": "433295ec-ce61-4ead-9fbd-1eff1fdc63e6",
   "metadata": {},
   "outputs": [
    {
     "name": "stdout",
     "output_type": "stream",
     "text": [
      "Dataset sample structure:\n",
      "<class 'list'>\n",
      "[{'role': 'system', 'content': '你现在是一位在上海陆家嘴区域活动的人，请以第一人称视角回忆你的活动轨迹。下面<tools></tools>标签中提供了一些可以辅助你回忆细节的工具函数：<tools>[  {    \"type\": \"function\",     \"function\": {      \"name\": \"query_date\",       \"description\": \"生成一个工作日日期，帮助你回忆具体是哪一天\",       \"parameters\": {        \"type\": \"object\",         \"properties\": {}      }    }  },   {    \"type\": \"function\",     \"function\": {      \"name\": \"get_lujiazui_transition_info\",       \"description\": \"帮助你回忆进出陆家嘴的信息，包括从哪里来、什么时候到达、离开时间和去向\",       \"parameters\": {        \"type\": \"object\",         \"properties\": {          \"person_type_inljz\": {            \"type\": \"string\",             \"description\": \"你在陆家嘴活动的人群画像，仅限于以下五种：\\'工作人群\\',\\'陆家嘴本地居民\\',\\'旅游人群\\',\\'商务人群\\',\\'到访商业消费人群\\'\"          }        },         \"required\": [\"person_type_inljz\"]      }    }  },   {    \"type\": \"function\",     \"function\": {      \"name\": \"query_location_info\",       \"description\": \"帮助你回忆在陆家嘴进行活动的具体地点\",       \"parameters\": {        \"type\": \"object\",         \"properties\": {          \"activity_type\": {            \"type\": \"string\",             \"description\": \"活动类型，仅限于以下七种：\\'就业工作\\'、\\'餐饮活动\\'、\\'购物消费\\'、\\'居住休憩\\'、\\'旅游观光\\'、\\'文体休闲\\'、\\'生活服务\\'\"          },           \"current_location\": {            \"type\": \"string\",             \"description\": \"你当前所在位置的坐标\"          }        },         \"required\": [\"activity_type\"]      }    }  }]</tools>在回忆过程中，请以第一人称视角思考你的活动轨迹。在<think></think>标签内，你应该像真实的人一样思考和回忆并且正确选择调用工具函数，例如\\'我记得我当时在哪里\\'、\\'我去了什么地方\\'等。这些思考应该反映出一个人在尝试回忆过去经历时的自然思维过程。然后在<tool_call></tool_call>标签内正确调用相应的工具来帮助你具体回忆细节。注意：你只能使用以上定义的工具函数，不要编造新的函数名。所有坐标信息均使用\\'经度,纬度\\'格式。'}, {'role': 'human', 'content': '生成一份记录陆家嘴区域内某人全天活动的轨迹信息。'}, {'role': 'model', 'content': '{\"steps\": [{\"think\": \"<think>\\\\n陆家嘴之行...首先要确定具体日期。对我这样的旅游人群来说，虽然记得那是个工作日，办公楼里人来人往，但具体日期如同云雾中的月亮，朦胧不清。使用query_date工具查询一下，给记忆找个明确的起点。\\\\n</think>\", \"tool_call\": \"<tool_call> {\\'name\\': \\'query_date\\', \\'arguments\\': {}} </tool_call>\", \"tool_response\": \"<tool_response> {\\'date\\': \\'2024年9月18日，星期三\\'} </tool_response>\"}, {\"think\": \"<think>\\\\n日期有了，下一步是梳理行程的起止点。出发地在哪？几点到的陆家嘴？离开时间是？去向又是哪里？我感觉记忆有些模糊，最好用get_lujiazui_transition_info工具确认一下这些关键节点。\\\\n</think>\", \"tool_call\": \"<tool_call>{\\'name\\': \\'get_lujiazui_transition_info\\', \\'arguments\\': {\\'person_type_inljz\\': \\'旅游人群\\'}}</tool_call>\", \"tool_response\": \"<tool_response>{\\'pre_location_type\\': \\'工作地\\', \\'pre_location_coord\\': \\'121.453171,31.244431\\', \\'arrival_time\\': \\'17:00:00\\', \\'post_location_type\\': \\'工作地\\', \\'post_location_coord\\': \\'121.453171,31.244431\\', \\'departure_time\\': \\'19:36:42\\'}</tool_response>\"}, {\"think\": \"<think>\\\\n我在陆家嘴的首个目的地是进行旅游观光。嗯...我去的那个地方环境不错，但名字是什么？位于哪个具体位置？有点想不起来了。查询一下陆家嘴区域内的相关场所，应该能帮我回忆起来。\\\\n</think>\", \"tool_call\": \"<tool_call> {\\'name\\': \\'query_location_info\\', \\'arguments\\': {\\'activity_type\\': \\'旅游观光\\', \\'current_location\\': \\'null\\'}} </tool_call>\", \"tool_response\": \"<tool_response> {\\'poi_candidate\\': \\'[1] name:上海海洋水族馆-斑海豹, type:风景名胜+风景名胜相关+旅游景点, location:121.497136,31.242619\\\\n[2] name:印象光绘艺术馆, type:展览馆 nan, location:121.495661,31.241563\\\\n[3] name:陆家嘴社区双拥广场, type:风景名胜+公园广场+公园广场, location:121.525573,31.23617\\\\n[4] name:上海海洋水族馆-马蹄蟹(鲎), type:风景名胜+风景名胜相关+旅游景点, location:121.497046,31.242611\\\\n[5] name:太清宫(北2门), type:风景名胜+风景名胜相关+旅游景点, location:121.52837,31.236624\\'} </tool_response>\"}, {\"think\": \"<think>\\\\n从121.495661,31.241563离开后，我想找个地方进行餐饮活动，这是我当天的第2个活动。但具体去了哪里？位置在哪？有多远？我需要用location查询工具帮我列出一些合理的选项。\\\\n</think>\", \"tool_call\": \"<tool_call> {\\'name\\': \\'query_location_info\\', \\'arguments\\': {\\'activity_type\\': \\'餐饮活动\\', \\'current_location\\': \\'121.495661,31.241563\\'}} </tool_call>\", \"tool_response\": \"<tool_response> {\\'poi_candidate\\': \\'[1] name:Joy, type:餐饮服务+餐饮相关场所+餐饮相关, location:121.514341,31.231896, line_distance:2075米\\\\n[2] name:继光香香鸡(正大广场店), type:餐饮服务+餐饮相关场所+餐饮相关, location:121.494799,31.238833, line_distance:314米\\\\n[3] name:万来甘栗(国金店), type:餐饮服务+快餐厅+快餐厅, location:121.496536,31.238375, line_distance:364米\\\\n[4] name:和彩放题(八佰伴店), type:餐饮服务+外国餐厅+日本料理, location:121.51358,31.23333, line_distance:1934米\\\\n[5] name:I WAFFLE, type:美食+面包甜点+面包烘焙, location:121.497597,31.238836, line_distance:354.7185205642836米\\'} </tool_response>\"}], \"final_answer\": \"<answer>\\\\n# 个体基本信息\\\\n\\\\t[陆家嘴活动人群画像]: 旅游人群\\\\n\\\\t[年龄]: 58岁\\\\n\\\\t[性别]: 女性\\\\n\\\\t[家庭结构]: 单人户\\\\n\\\\t[个人月收入]: 15000元/月\\\\n\\\\t[家庭可支配收入]: 8000元/月\\\\n\\\\t[交通工具保有情况]: 私家车\\\\n---\\\\n# 在上海市陆家嘴区域内(2024年10月9日，星期三)一天内的完整活动轨迹记录\\\\n\\\\n## 非陆家嘴活动概述\\\\n\\\\t[陆家嘴前出发地]: 工作地, 坐标经纬度为121.453171,31.244431\\\\n\\\\t[到达陆家嘴时间]: 17:00:00\\\\n\\\\t[陆家嘴后目的地]: 工作地, 坐标经纬度为121.453171,31.244431\\\\n\\\\t[离开陆家嘴时间]: 19:36:42\\\\n\\\\n## 出行ID：1[第1次出行] | 出行方式：drive\\\\n\\\\t[起点]: 121.453171,31.244431, [终点]: 121.495661,31.241563\\\\n\\\\t[直线距离]: 4002.65米\\\\n\\\\t[出行目的]: 旅游观光\\\\n\\\\t[出行类型]: 陆家嘴进出出行\\\\n\\\\n## 活动ID：1 | 活动类型：旅游观光\\\\n\\\\t[时段]: 17:00:00 - 18:28:15, 累计88.25分钟\\\\n\\\\t[地点]: 印象光绘艺术馆, 类型为展览馆 nan), 坐标经纬度为121.495661,31.241563\\\\n\\\\t[活动内容]: 在印象光绘艺术馆欣赏展览，体验光影艺术带来的视觉盛宴。馆内氛围优雅，展品生动有趣，令人流连忘返。\\\\n## 出行ID：2[第2次出行] | 出行方式：walk\\\\n\\\\t[起点]: 121.495661,31.241563, [终点]: 121.497597,31.238836\\\\n\\\\t[直线距离]: 354.74米\\\\n\\\\t[出行目的]: 餐饮活动\\\\n\\\\t[出行类型]: 陆家嘴区内出行\\\\n\\\\n## 活动ID：2 | 活动类型：餐饮活动\\\\n\\\\t[时段]: 18:30:00 - 19:36:42, 累计66.7分钟\\\\n\\\\t[地点]: I WAFFLE, 类型为美食+面包甜点+面包烘焙), 坐标经纬度为121.497597,31.238836\\\\n\\\\t[活动内容]: 在I WAFFLE享用美食，点了一份招牌华夫饼，搭配新鲜的水果和冰淇淋。\\\\n## 出行ID：3[第3次出行] | 出行方式：walk\\\\n\\\\t[起点]: 121.497597,31.238836, [终点]: 121.495248,31.241762\\\\n\\\\t[直线距离]: 394.65米\\\\n\\\\t[出行目的]: 旅游观光\\\\n\\\\t[出行类型]: 陆家嘴区内出行\\\\n\\\\n## 活动链出行链概述:\\\\n\\\\t[Ingress Phase]: 从工作地，坐标(121.453171,31.244431)出发，到达陆家嘴\\\\n\\\\t[Egress Phase]: 到达工作地，坐标(121.453171,31.244431)，结束陆家嘴内活动\\\\n\\\\n</answer>\"}'}]\n",
      "DatasetDict({\n",
      "    train: Dataset({\n",
      "        features: ['text'],\n",
      "        num_rows: 570\n",
      "    })\n",
      "    test: Dataset({\n",
      "        features: ['text'],\n",
      "        num_rows: 30\n",
      "    })\n",
      "})\n"
     ]
    }
   ],
   "source": [
    "from datasets import load_dataset\n",
    "from transformers import AutoTokenizer\n",
    "\n",
    "# 使用本地路径\n",
    "model_path = \"autodl-tmp/models/Qwen2.5-7B-Instruct\"\n",
    "dataset_path = \"autodl-tmp/datas/lora_finetune_dataset_functioncall_sample600.jsonl\"\n",
    "\n",
    "# 从本地加载tokenizer\n",
    "tokenizer = AutoTokenizer.from_pretrained(model_path)\n",
    "\n",
    "# 设置聊天模板\n",
    "tokenizer.chat_template = (\n",
    "    \"{{ bos_token }}\"\n",
    "    \"{% if messages[0]['role'] == 'system' %}{{ raise_exception('System role not supported') }}{% endif %}\"\n",
    "    \"{% for message in messages %}\"\n",
    "    \"{{ '<start_of_turn>' + message['role'] + '\\n' + message['content'] | trim + '<end_of_turn><eos>\\n' }}\"\n",
    "    \"{% endfor %}\"\n",
    "    \"{% if add_generation_prompt %}{{'<start_of_turn>model\\n'}}{% endif %}\"\n",
    ")\n",
    "\n",
    "# 从本地JSONL文件加载数据集\n",
    "dataset = load_dataset('json', data_files=dataset_path)\n",
    "dataset = dataset.rename_column(\"conversation\", \"messages\")\n",
    "\n",
    "print(\"Dataset sample structure:\")\n",
    "sample = dataset[\"train\"][0]\n",
    "print(type(sample[\"messages\"]))\n",
    "print(sample[\"messages\"] if isinstance(sample[\"messages\"], list) else \"Not a list\")\n",
    "\n",
    "def preprocess(sample):\n",
    "    messages = sample[\"messages\"]\n",
    "    \n",
    "    if not isinstance(messages, list):\n",
    "        return {\"text\": \"Error: unexpected message format\"}\n",
    "    \n",
    "    if messages and isinstance(messages[0], dict) and \"role\" in messages[0]:\n",
    "        if messages[0][\"role\"] == \"system\":\n",
    "            system_message_content = messages[0][\"content\"]\n",
    "            if len(messages) > 1:\n",
    "                messages[1][\"content\"] = (\n",
    "                    system_message_content +\n",
    "                    \"Also, before making a call to a function take the time to plan the function to take. \"\n",
    "                    \"Make that thinking process between <think>{your thoughts}</think>\\n\\n\" +\n",
    "                    messages[1][\"content\"]\n",
    "                )\n",
    "            messages = messages[1:]\n",
    "    \n",
    "    return {\"text\": tokenizer.apply_chat_template(messages, tokenize=False)}\n",
    "\n",
    "dataset = dataset.map(preprocess, remove_columns=[\"messages\"])\n",
    "dataset = dataset[\"train\"].train_test_split(test_size=0.05)\n",
    "print(dataset)"
   ]
  },
  {
   "cell_type": "code",
   "execution_count": 7,
   "id": "b63f1989-4dc9-42ac-b3f9-d96cee9b4def",
   "metadata": {},
   "outputs": [
    {
     "name": "stdout",
     "output_type": "stream",
     "text": [
      "<start_of_turn>human\n",
      "你现在是一位在上海陆家嘴区域活动的人，请以第一人称视角回忆你的活动轨迹。下面<tools></tools>标签中提供了一些可以辅助你回忆细节的工具函数：<tools>[  {    \"type\": \"function\",     \"function\": {      \"name\": \"query_date\",       \"description\": \"生成一个工作日日期，帮助你回忆具体是哪一天\",       \"parameters\": {        \"type\": \"object\",         \"properties\": {}      }    }  },   {    \"type\": \"function\",     \"function\": {      \"name\": \"get_lujiazui_transition_info\",       \"description\": \"帮助你回忆进出陆家嘴的信息，包括从哪里来、什么时候到达、离开时间和去向\",       \"parameters\": {        \"type\": \"object\",         \"properties\": {          \"person_type_inljz\": {            \"type\": \"string\",             \"description\": \"你在陆家嘴活动的人群画像，仅限于以下五种：'工作人群','陆家嘴本地居民','旅游人群','商务人群','到访商业消费人群'\"          }        },         \"required\": [\"person_type_inljz\"]      }    }  },   {    \"type\": \"function\",     \"function\": {      \"name\": \"query_location_info\",       \"description\": \"帮助你回忆在陆家嘴进行活动的具体地点\",       \"parameters\": {        \"type\": \"object\",         \"properties\": {          \"activity_type\": {            \"type\": \"string\",             \"description\": \"活动类型，仅限于以下七种：'就业工作'、'餐饮活动'、'购物消费'、'居住休憩'、'旅游观光'、'文体休闲'、'生活服务'\"          },           \"current_location\": {            \"type\": \"string\",             \"description\": \"你当前所在位置的坐标\"          }        },         \"required\": [\"activity_type\"]      }    }  }]</tools>在回忆过程中，请以第一人称视角思考你的活动轨迹。在<think></think>标签内，你应该像真实的人一样思考和回忆并且正确选择调用工具函数，例如'我记得我当时在哪里'、'我去了什么地方'等。这些思考应该反映出一个人在尝试回忆过去经历时的自然思维过程。然后在<tool_call></tool_call>标签内正确调用相应的工具来帮助你具体回忆细节。注意：你只能使用以上定义的工具函数，不要编造新的函数名。所有坐标信息均使用'经度,纬度'格式。Also, before making a call to a function take the time to plan the function to take. Make that thinking process between <think>{your thoughts}</think>\n",
      "\n",
      "生成陆家嘴区域内某人的日常活动轨迹。<end_of_turn><eos>\n",
      "<start_of_turn>model\n",
      "{\"steps\": [{\"think\": \"<think>\\n整理思绪...想起在陆家嘴的那天...唔，对于我这样的工作人群，日期是个关键信息。我需要先确定是哪一天，这样后面的记忆才能串联起来。用日期查询工具最合适不过了，能够给我一个明确的时间锚点。\\n</think>\", \"tool_call\": \"<tool_call> {'name': 'query_date', 'arguments': {}} </tool_call>\", \"tool_response\": \"<tool_response> {'date': '2024年9月10日，星期二'} </tool_response>\"}, {\"think\": \"<think>\\n时间地点，时间地点...日期想起来了，但整个行程的起点和终点在哪？到达和离开陆家嘴的时间点是几点？这些基本信息应该先确定下来。用转场信息查询工具吧，这样能得到准确的进出陆家嘴信息。\\n</think>\", \"tool_call\": \"<tool_call>{'name': 'get_lujiazui_transition_info', 'arguments': {'person_type_inljz': '工作人群'}}</tool_call>\", \"tool_response\": \"<tool_response>{'pre_location_type': '其它（非工作居住）地', 'pre_location_coord': '121.538315,31.240311', 'arrival_time': '9:00:00', 'post_location_type': '居住地', 'post_location_coord': '121.541061,31.234818', 'departure_time': '16:35:02'}</tool_response>\"}, {\"think\": \"<think>\\n陆家嘴第一站活动：就业工作。但我具体去了哪个场所？什么名字？什么位置？这些细节都有点记不清了。不如用query_location_info工具查询一下陆家嘴适合就业工作的地点，帮助我恢复记忆。\\n</think>\", \"tool_call\": \"<tool_call> {'name': 'query_location_info', 'arguments': {'activity_type': '就业工作', 'current_location': 'null'}} </tool_call>\", \"tool_response\": \"<tool_response> {'poi_candidate': '[1] name:萨孚凯信息系统技术, type:公司企业;公司;网络科技, location:121.514910,31.232389'} </tool_response>\"}, {\"think\": \"<think>\\n第2个活动是餐饮活动。从121.514910,31.232389到下一个地点，我选择了哪里？名字是什么？多远的距离？位置在哪个方向？这些细节需要查询工具帮忙回忆一下。\\n</think>\", \"tool_call\": \"<tool_call> {'name': 'query_location_info', 'arguments': {'activity_type': '餐饮活动', 'current_location': '121.514910,31.232389'}} </tool_call>\", \"tool_response\": \"<tool_response> {'poi_candidate': '[1] name:巴蜀香锅(吉刻送), type:餐饮服务+中餐厅+四川菜(川菜), location:121.514625,31.231137, line_distance:141米\\n[2] name:福建千里香馄饨王(栖霞路分店), type:餐饮服务+中餐厅+特色/地方风味餐厅, location:121.512889,31.238451, line_distance:700米\\n[3] name:Laksa Johor柔佛叻沙, type:餐饮服务+外国餐厅+外国餐厅, location:121.512789,31.228288, line_distance:498米\\n[4] name:重庆小吃(曙建路店), type:餐饮服务+中餐厅+中餐厅, location:121.515779,31.23242, line_distance:82米\\n[5] name:海天一角美食城员工餐厅, type:美食+其他美食+nan, location:121.521011,31.228888, line_distance:698.6095607316151米'} </tool_response>\"}, {\"think\": \"<think>\\n活动3:就业工作。我刚在121.521011,31.228888活动完，接下来想找个地方就业工作。去哪好呢？距离、口碑、方便性都要考虑。让我查询一下附近合适的地点，看看有哪些选择。\\n</think>\", \"tool_call\": \"<tool_call> {'name': 'query_location_info', 'arguments': {'activity_type': '就业工作', 'current_location': '121.521011,31.228888'}} </tool_call>\", \"tool_response\": \"<tool_response> {'poi_candidate': 'name:萨孚凯信息系统技术, type:公司企业;公司;网络科技, location:121.514910,31.232389, line_distance:698.6095607316151米'} </tool_response>\"}], \"final_answer\": \"<answer>\\n# 个体基本信息\\n\\t[陆家嘴活动人群画像]: 工作人群\\n\\t[年龄]: 45岁\\n\\t[性别]: 男性\\n\\t[家庭结构]: 核心家庭户\\n\\t[个人月收入]: 12000元/月\\n\\t[家庭可支配收入]: 8000元/月\\n\\t[交通工具保有情况]: 电动自行车\\n---\\n# 在上海市陆家嘴区域内(2024年9月16日，星期一)一天内的完整活动轨迹记录\\n\\n## 非陆家嘴活动概述\\n\\t[陆家嘴前出发地]: 其它（非工作居住）地, 坐标经纬度为121.538315,31.240311\\n\\t[到达陆家嘴时间]: 9:00:00\\n\\t[陆家嘴后目的地]: 居住地, 坐标经纬度为121.541061,31.234818\\n\\t[离开陆家嘴时间]: 16:35:02\\n\\n## 出行ID：1[第1次出行] | 出行方式：transit\\n\\t[起点]: 121.538315,31.240311, [终点]: 121.514548,31.232093\\n\\t[直线距离]: 2476.65米\\n\\t[出行目的]: 就业工作\\n\\t[出行类型]: 陆家嘴进出出行\\n\\n## 活动ID：1 | 活动类型：就业工作\\n\\t[时段]: 9:00:00 - 11:03:00, 累计123.0分钟\\n\\t[地点]: 萨孚凯信息系统技术, 类型为公司企业;公司;网络科技), 坐标经纬度为121.514910,31.232389\\n\\t[活动内容]: 早上9点在办公室进行项目进展汇报，参与团队会议，讨论工作进展。\\n## 出行ID：2[第2次出行] | 出行方式：walk\\n\\t[起点]: 121.514548,31.232093, [终点]: 121.521011,31.228888\\n\\t[直线距离]: 710.38米\\n\\t[出行目的]: 餐饮活动\\n\\t[出行类型]: 陆家嘴区内出行\\n\\n## 活动ID：2 | 活动类型：餐饮活动\\n\\t[时段]: 11:00:00 - 12:04:01, 累计64.02分钟\\n\\t[地点]: 海天一角美食城员工餐厅, 类型为美食+其他美食+nan), 坐标经纬度为121.521011,31.228888\\n\\t[活动内容]: 中午11点去海天一角美食城的员工餐厅用午餐，与同事们一起交流。\\n## 出行ID：3[第3次出行] | 出行方式：transit\\n\\t[起点]: 121.521011,31.228888, [终点]: 121.514548,31.232093\\n\\t[直线距离]: 710.38米\\n\\t[出行目的]: 就业工作\\n\\t[出行类型]: 陆家嘴区内出行\\n\\n## 活动ID：3 | 活动类型：就业工作\\n\\t[时段]: 12:00:00 - 16:35:02, 累计275.03分钟\\n\\t[地点]: 萨孚凯信息系统技术, 类型为公司企业;公司;网络科技), 坐标经纬度为121.514910,31.232389\\n\\t[活动内容]: 中午12点回到办公室，继续进行项目开发和代码测试。\\n## 出行ID：4[第4次出行] | 出行方式：transit\\n\\t[起点]: 121.514548,31.232093, [终点]: 121.541061,31.234818\\n\\t[直线距离]: 2655.05米\\n\\t[出行目的]: 离开\\n\\t[出行类型]: 陆家嘴进出出行\\n\\n## 活动链出行链概述:\\n\\t[Ingress Phase]: 从其它（非工作居住）地，坐标(121.538315,31.240311)出发，到达陆家嘴\\n\\t[Egress Phase]: 到达居住地，坐标(121.541061,31.234818)，结束陆家嘴内活动\\n\\n</answer>\"}<end_of_turn><eos>\n",
      "\n"
     ]
    }
   ],
   "source": [
    "print(dataset[\"train\"][85][\"text\"])"
   ]
  },
  {
   "cell_type": "code",
   "execution_count": 8,
   "id": "2b5a5cbc-88e0-4bbe-a19d-a9321b611309",
   "metadata": {},
   "outputs": [
    {
     "name": "stdout",
     "output_type": "stream",
     "text": [
      "<start_of_turn>human\n",
      "你现在是一位在上海陆家嘴区域活动的人，请以第一人称视角回忆你的活动轨迹。下面<tools></tools>标签中提供了一些可以辅助你回忆细节的工具函数：<tools>[  {    \"type\": \"function\",     \"function\": {      \"name\": \"query_date\",       \"description\": \"生成一个工作日日期，帮助你回忆具体是哪一天\",       \"parameters\": {        \"type\": \"object\",         \"properties\": {}      }    }  },   {    \"type\": \"function\",     \"function\": {      \"name\": \"get_lujiazui_transition_info\",       \"description\": \"帮助你回忆进出陆家嘴的信息，包括从哪里来、什么时候到达、离开时间和去向\",       \"parameters\": {        \"type\": \"object\",         \"properties\": {          \"person_type_inljz\": {            \"type\": \"string\",             \"description\": \"你在陆家嘴活动的人群画像，仅限于以下五种：'工作人群','陆家嘴本地居民','旅游人群','商务人群','到访商业消费人群'\"          }        },         \"required\": [\"person_type_inljz\"]      }    }  },   {    \"type\": \"function\",     \"function\": {      \"name\": \"query_location_info\",       \"description\": \"帮助你回忆在陆家嘴进行活动的具体地点\",       \"parameters\": {        \"type\": \"object\",         \"properties\": {          \"activity_type\": {            \"type\": \"string\",             \"description\": \"活动类型，仅限于以下七种：'就业工作'、'餐饮活动'、'购物消费'、'居住休憩'、'旅游观光'、'文体休闲'、'生活服务'\"          },           \"current_location\": {            \"type\": \"string\",             \"description\": \"你当前所在位置的坐标\"          }        },         \"required\": [\"activity_type\"]      }    }  }]</tools>在回忆过程中，请以第一人称视角思考你的活动轨迹。在<think></think>标签内，你应该像真实的人一样思考和回忆并且正确选择调用工具函数，例如'我记得我当时在哪里'、'我去了什么地方'等。这些思考应该反映出一个人在尝试回忆过去经历时的自然思维过程。然后在<tool_call></tool_call>标签内正确调用相应的工具来帮助你具体回忆细节。注意：你只能使用以上定义的工具函数，不要编造新的函数名。所有坐标信息均使用'经度,纬度'格式。Also, before making a call to a function take the time to plan the function to take. Make that thinking process between <think>{your thoughts}</think>\n",
      "\n",
      "生成陆家嘴区域内某人的日常活动轨迹。<end_of_turn><eos>\n",
      "<start_of_turn>model\n",
      "{\"steps\": [{\"think\": \"<think>\\n整理思绪...想起在陆家嘴的那天...唔，对于我这样的工作人群，日期是个关键信息。我需要先确定是哪一天，这样后面的记忆才能串联起来。用日期查询工具最合适不过了，能够给我一个明确的时间锚点。\\n</think>\", \"tool_call\": \"<tool_call> {'name': 'query_date', 'arguments': {}} </tool_call>\", \"tool_response\": \"<tool_response> {'date': '2024年9月10日，星期二'} </tool_response>\"}, {\"think\": \"<think>\\n时间地点，时间地点...日期想起来了，但整个行程的起点和终点在哪？到达和离开陆家嘴的时间点是几点？这些基本信息应该先确定下来。用转场信息查询工具吧，这样能得到准确的进出陆家嘴信息。\\n</think>\", \"tool_call\": \"<tool_call>{'name': 'get_lujiazui_transition_info', 'arguments': {'person_type_inljz': '工作人群'}}</tool_call>\", \"tool_response\": \"<tool_response>{'pre_location_type': '其它（非工作居住）地', 'pre_location_coord': '121.538315,31.240311', 'arrival_time': '9:00:00', 'post_location_type': '居住地', 'post_location_coord': '121.541061,31.234818', 'departure_time': '16:35:02'}</tool_response>\"}, {\"think\": \"<think>\\n陆家嘴第一站活动：就业工作。但我具体去了哪个场所？什么名字？什么位置？这些细节都有点记不清了。不如用query_location_info工具查询一下陆家嘴适合就业工作的地点，帮助我恢复记忆。\\n</think>\", \"tool_call\": \"<tool_call> {'name': 'query_location_info', 'arguments': {'activity_type': '就业工作', 'current_location': 'null'}} </tool_call>\", \"tool_response\": \"<tool_response> {'poi_candidate': '[1] name:萨孚凯信息系统技术, type:公司企业;公司;网络科技, location:121.514910,31.232389'} </tool_response>\"}, {\"think\": \"<think>\\n第2个活动是餐饮活动。从121.514910,31.232389到下一个地点，我选择了哪里？名字是什么？多远的距离？位置在哪个方向？这些细节需要查询工具帮忙回忆一下。\\n</think>\", \"tool_call\": \"<tool_call> {'name': 'query_location_info', 'arguments': {'activity_type': '餐饮活动', 'current_location': '121.514910,31.232389'}} </tool_call>\", \"tool_response\": \"<tool_response> {'poi_candidate': '[1] name:巴蜀香锅(吉刻送), type:餐饮服务+中餐厅+四川菜(川菜), location:121.514625,31.231137, line_distance:141米\\n[2] name:福建千里香馄饨王(栖霞路分店), type:餐饮服务+中餐厅+特色/地方风味餐厅, location:121.512889,31.238451, line_distance:700米\\n[3] name:Laksa Johor柔佛叻沙, type:餐饮服务+外国餐厅+外国餐厅, location:121.512789,31.228288, line_distance:498米\\n[4] name:重庆小吃(曙建路店), type:餐饮服务+中餐厅+中餐厅, location:121.515779,31.23242, line_distance:82米\\n[5] name:海天一角美食城员工餐厅, type:美食+其他美食+nan, location:121.521011,31.228888, line_distance:698.6095607316151米'} </tool_response>\"}, {\"think\": \"<think>\\n活动3:就业工作。我刚在121.521011,31.228888活动完，接下来想找个地方就业工作。去哪好呢？距离、口碑、方便性都要考虑。让我查询一下附近合适的地点，看看有哪些选择。\\n</think>\", \"tool_call\": \"<tool_call> {'name': 'query_location_info', 'arguments': {'activity_type': '就业工作', 'current_location': '121.521011,31.228888'}} </tool_call>\", \"tool_response\": \"<tool_response> {'poi_candidate': 'name:萨孚凯信息系统技术, type:公司企业;公司;网络科技, location:121.514910,31.232389, line_distance:698.6095607316151米'} </tool_response>\"}], \"final_answer\": \"<answer>\\n# 个体基本信息\\n\\t[陆家嘴活动人群画像]: 工作人群\\n\\t[年龄]: 45岁\\n\\t[性别]: 男性\\n\\t[家庭结构]: 核心家庭户\\n\\t[个人月收入]: 12000元/月\\n\\t[家庭可支配收入]: 8000元/月\\n\\t[交通工具保有情况]: 电动自行车\\n---\\n# 在上海市陆家嘴区域内(2024年9月16日，星期一)一天内的完整活动轨迹记录\\n\\n## 非陆家嘴活动概述\\n\\t[陆家嘴前出发地]: 其它（非工作居住）地, 坐标经纬度为121.538315,31.240311\\n\\t[到达陆家嘴时间]: 9:00:00\\n\\t[陆家嘴后目的地]: 居住地, 坐标经纬度为121.541061,31.234818\\n\\t[离开陆家嘴时间]: 16:35:02\\n\\n## 出行ID：1[第1次出行] | 出行方式：transit\\n\\t[起点]: 121.538315,31.240311, [终点]: 121.514548,31.232093\\n\\t[直线距离]: 2476.65米\\n\\t[出行目的]: 就业工作\\n\\t[出行类型]: 陆家嘴进出出行\\n\\n## 活动ID：1 | 活动类型：就业工作\\n\\t[时段]: 9:00:00 - 11:03:00, 累计123.0分钟\\n\\t[地点]: 萨孚凯信息系统技术, 类型为公司企业;公司;网络科技), 坐标经纬度为121.514910,31.232389\\n\\t[活动内容]: 早上9点在办公室进行项目进展汇报，参与团队会议，讨论工作进展。\\n## 出行ID：2[第2次出行] | 出行方式：walk\\n\\t[起点]: 121.514548,31.232093, [终点]: 121.521011,31.228888\\n\\t[直线距离]: 710.38米\\n\\t[出行目的]: 餐饮活动\\n\\t[出行类型]: 陆家嘴区内出行\\n\\n## 活动ID：2 | 活动类型：餐饮活动\\n\\t[时段]: 11:00:00 - 12:04:01, 累计64.02分钟\\n\\t[地点]: 海天一角美食城员工餐厅, 类型为美食+其他美食+nan), 坐标经纬度为121.521011,31.228888\\n\\t[活动内容]: 中午11点去海天一角美食城的员工餐厅用午餐，与同事们一起交流。\\n## 出行ID：3[第3次出行] | 出行方式：transit\\n\\t[起点]: 121.521011,31.228888, [终点]: 121.514548,31.232093\\n\\t[直线距离]: 710.38米\\n\\t[出行目的]: 就业工作\\n\\t[出行类型]: 陆家嘴区内出行\\n\\n## 活动ID：3 | 活动类型：就业工作\\n\\t[时段]: 12:00:00 - 16:35:02, 累计275.03分钟\\n\\t[地点]: 萨孚凯信息系统技术, 类型为公司企业;公司;网络科技), 坐标经纬度为121.514910,31.232389\\n\\t[活动内容]: 中午12点回到办公室，继续进行项目开发和代码测试。\\n## 出行ID：4[第4次出行] | 出行方式：transit\\n\\t[起点]: 121.514548,31.232093, [终点]: 121.541061,31.234818\\n\\t[直线距离]: 2655.05米\\n\\t[出行目的]: 离开\\n\\t[出行类型]: 陆家嘴进出出行\\n\\n## 活动链出行链概述:\\n\\t[Ingress Phase]: 从其它（非工作居住）地，坐标(121.538315,31.240311)出发，到达陆家嘴\\n\\t[Egress Phase]: 到达居住地，坐标(121.541061,31.234818)，结束陆家嘴内活动\\n\\n</answer>\"}<end_of_turn><eos>\n",
      "\n"
     ]
    }
   ],
   "source": [
    "print(dataset[\"train\"][85][\"text\"])"
   ]
  },
  {
   "cell_type": "code",
   "execution_count": 11,
   "id": "1297974d-7578-4977-ad47-cba5b02e41c2",
   "metadata": {},
   "outputs": [
    {
     "name": "stdout",
     "output_type": "stream",
     "text": [
      "特殊标记检查:\n",
      "<tools>: 在特殊标记列表中\n",
      "</tools>: 在特殊标记列表中\n",
      "<think>: 在特殊标记列表中\n",
      "</think>: 在特殊标记列表中\n",
      "<tool_call>: 在特殊标记列表中\n",
      "</tool_call>: 在特殊标记列表中\n",
      "<tool_response>: 在特殊标记列表中\n",
      "</tool_response>: 在特殊标记列表中\n",
      "<answer>: 在特殊标记列表中\n",
      "</answer>: 在特殊标记列表中\n",
      "<start_of_turn>: 在特殊标记列表中\n",
      "<end_of_turn>: 在特殊标记列表中\n",
      "<pad>: 在特殊标记列表中\n",
      "<eos>: 在特殊标记列表中\n",
      "\n",
      "分词测试:\n",
      "<tools> -> ['<tools>'] (token_ids: [151666])\n",
      "✓ 正确: 被识别为单个token\n",
      "</tools> -> ['</tools>'] (token_ids: [151667])\n",
      "✓ 正确: 被识别为单个token\n",
      "<think> -> ['<think>'] (token_ids: [151668])\n",
      "✓ 正确: 被识别为单个token\n",
      "</think> -> ['</think>'] (token_ids: [151669])\n",
      "✓ 正确: 被识别为单个token\n",
      "<tool_call> -> ['<tool_call>'] (token_ids: [151657])\n",
      "✓ 正确: 被识别为单个token\n",
      "</tool_call> -> ['</tool_call>'] (token_ids: [151658])\n",
      "✓ 正确: 被识别为单个token\n",
      "<tool_response> -> ['<tool_response>'] (token_ids: [151670])\n",
      "✓ 正确: 被识别为单个token\n",
      "</tool_response> -> ['</tool_response>'] (token_ids: [151671])\n",
      "✓ 正确: 被识别为单个token\n",
      "<answer> -> ['<answer>'] (token_ids: [151672])\n",
      "✓ 正确: 被识别为单个token\n",
      "</answer> -> ['</answer>'] (token_ids: [151673])\n",
      "✓ 正确: 被识别为单个token\n",
      "<start_of_turn> -> ['<start_of_turn>'] (token_ids: [151674])\n",
      "✓ 正确: 被识别为单个token\n",
      "<end_of_turn> -> ['<end_of_turn>'] (token_ids: [151675])\n",
      "✓ 正确: 被识别为单个token\n",
      "<pad> -> ['<pad>'] (token_ids: [151665])\n",
      "✓ 正确: 被识别为单个token\n",
      "<eos> -> ['<eos>'] (token_ids: [151676])\n",
      "✓ 正确: 被识别为单个token\n",
      "\n",
      "Dataset sample structure:\n",
      "<class 'list'>\n",
      "[{'role': 'system', 'content': '你现在是一位在上海陆家嘴区域活动的人，请以第一人称视角回忆你的活动轨迹。下面<tools></tools>标签中提供了一些可以辅助你回忆细节的工具函数：<tools>[  {    \"type\": \"function\",     \"function\": {      \"name\": \"query_date\",       \"description\": \"生成一个工作日日期，帮助你回忆具体是哪一天\",       \"parameters\": {        \"type\": \"object\",         \"properties\": {}      }    }  },   {    \"type\": \"function\",     \"function\": {      \"name\": \"get_lujiazui_transition_info\",       \"description\": \"帮助你回忆进出陆家嘴的信息，包括从哪里来、什么时候到达、离开时间和去向\",       \"parameters\": {        \"type\": \"object\",         \"properties\": {          \"person_type_inljz\": {            \"type\": \"string\",             \"description\": \"你在陆家嘴活动的人群画像，仅限于以下五种：\\'工作人群\\',\\'陆家嘴本地居民\\',\\'旅游人群\\',\\'商务人群\\',\\'到访商业消费人群\\'\"          }        },         \"required\": [\"person_type_inljz\"]      }    }  },   {    \"type\": \"function\",     \"function\": {      \"name\": \"query_location_info\",       \"description\": \"帮助你回忆在陆家嘴进行活动的具体地点\",       \"parameters\": {        \"type\": \"object\",         \"properties\": {          \"activity_type\": {            \"type\": \"string\",             \"description\": \"活动类型，仅限于以下七种：\\'就业工作\\'、\\'餐饮活动\\'、\\'购物消费\\'、\\'居住休憩\\'、\\'旅游观光\\'、\\'文体休闲\\'、\\'生活服务\\'\"          },           \"current_location\": {            \"type\": \"string\",             \"description\": \"你当前所在位置的坐标\"          }        },         \"required\": [\"activity_type\"]      }    }  }]</tools>在回忆过程中，请以第一人称视角思考你的活动轨迹。在<think></think>标签内，你应该像真实的人一样思考和回忆并且正确选择调用工具函数，例如\\'我记得我当时在哪里\\'、\\'我去了什么地方\\'等。这些思考应该反映出一个人在尝试回忆过去经历时的自然思维过程。然后在<tool_call></tool_call>标签内正确调用相应的工具来帮助你具体回忆细节。注意：你只能使用以上定义的工具函数，不要编造新的函数名。所有坐标信息均使用\\'经度,纬度\\'格式。'}, {'role': 'human', 'content': '生成一份记录陆家嘴区域内某人全天活动的轨迹信息。'}, {'role': 'model', 'content': '{\"steps\": [{\"think\": \"<think>\\\\n陆家嘴之行...首先要确定具体日期。对我这样的旅游人群来说，虽然记得那是个工作日，办公楼里人来人往，但具体日期如同云雾中的月亮，朦胧不清。使用query_date工具查询一下，给记忆找个明确的起点。\\\\n</think>\", \"tool_call\": \"<tool_call> {\\'name\\': \\'query_date\\', \\'arguments\\': {}} </tool_call>\", \"tool_response\": \"<tool_response> {\\'date\\': \\'2024年9月18日，星期三\\'} </tool_response>\"}, {\"think\": \"<think>\\\\n日期有了，下一步是梳理行程的起止点。出发地在哪？几点到的陆家嘴？离开时间是？去向又是哪里？我感觉记忆有些模糊，最好用get_lujiazui_transition_info工具确认一下这些关键节点。\\\\n</think>\", \"tool_call\": \"<tool_call>{\\'name\\': \\'get_lujiazui_transition_info\\', \\'arguments\\': {\\'person_type_inljz\\': \\'旅游人群\\'}}</tool_call>\", \"tool_response\": \"<tool_response>{\\'pre_location_type\\': \\'工作地\\', \\'pre_location_coord\\': \\'121.453171,31.244431\\', \\'arrival_time\\': \\'17:00:00\\', \\'post_location_type\\': \\'工作地\\', \\'post_location_coord\\': \\'121.453171,31.244431\\', \\'departure_time\\': \\'19:36:42\\'}</tool_response>\"}, {\"think\": \"<think>\\\\n我在陆家嘴的首个目的地是进行旅游观光。嗯...我去的那个地方环境不错，但名字是什么？位于哪个具体位置？有点想不起来了。查询一下陆家嘴区域内的相关场所，应该能帮我回忆起来。\\\\n</think>\", \"tool_call\": \"<tool_call> {\\'name\\': \\'query_location_info\\', \\'arguments\\': {\\'activity_type\\': \\'旅游观光\\', \\'current_location\\': \\'null\\'}} </tool_call>\", \"tool_response\": \"<tool_response> {\\'poi_candidate\\': \\'[1] name:上海海洋水族馆-斑海豹, type:风景名胜+风景名胜相关+旅游景点, location:121.497136,31.242619\\\\n[2] name:印象光绘艺术馆, type:展览馆 nan, location:121.495661,31.241563\\\\n[3] name:陆家嘴社区双拥广场, type:风景名胜+公园广场+公园广场, location:121.525573,31.23617\\\\n[4] name:上海海洋水族馆-马蹄蟹(鲎), type:风景名胜+风景名胜相关+旅游景点, location:121.497046,31.242611\\\\n[5] name:太清宫(北2门), type:风景名胜+风景名胜相关+旅游景点, location:121.52837,31.236624\\'} </tool_response>\"}, {\"think\": \"<think>\\\\n从121.495661,31.241563离开后，我想找个地方进行餐饮活动，这是我当天的第2个活动。但具体去了哪里？位置在哪？有多远？我需要用location查询工具帮我列出一些合理的选项。\\\\n</think>\", \"tool_call\": \"<tool_call> {\\'name\\': \\'query_location_info\\', \\'arguments\\': {\\'activity_type\\': \\'餐饮活动\\', \\'current_location\\': \\'121.495661,31.241563\\'}} </tool_call>\", \"tool_response\": \"<tool_response> {\\'poi_candidate\\': \\'[1] name:Joy, type:餐饮服务+餐饮相关场所+餐饮相关, location:121.514341,31.231896, line_distance:2075米\\\\n[2] name:继光香香鸡(正大广场店), type:餐饮服务+餐饮相关场所+餐饮相关, location:121.494799,31.238833, line_distance:314米\\\\n[3] name:万来甘栗(国金店), type:餐饮服务+快餐厅+快餐厅, location:121.496536,31.238375, line_distance:364米\\\\n[4] name:和彩放题(八佰伴店), type:餐饮服务+外国餐厅+日本料理, location:121.51358,31.23333, line_distance:1934米\\\\n[5] name:I WAFFLE, type:美食+面包甜点+面包烘焙, location:121.497597,31.238836, line_distance:354.7185205642836米\\'} </tool_response>\"}], \"final_answer\": \"<answer>\\\\n# 个体基本信息\\\\n\\\\t[陆家嘴活动人群画像]: 旅游人群\\\\n\\\\t[年龄]: 58岁\\\\n\\\\t[性别]: 女性\\\\n\\\\t[家庭结构]: 单人户\\\\n\\\\t[个人月收入]: 15000元/月\\\\n\\\\t[家庭可支配收入]: 8000元/月\\\\n\\\\t[交通工具保有情况]: 私家车\\\\n---\\\\n# 在上海市陆家嘴区域内(2024年10月9日，星期三)一天内的完整活动轨迹记录\\\\n\\\\n## 非陆家嘴活动概述\\\\n\\\\t[陆家嘴前出发地]: 工作地, 坐标经纬度为121.453171,31.244431\\\\n\\\\t[到达陆家嘴时间]: 17:00:00\\\\n\\\\t[陆家嘴后目的地]: 工作地, 坐标经纬度为121.453171,31.244431\\\\n\\\\t[离开陆家嘴时间]: 19:36:42\\\\n\\\\n## 出行ID：1[第1次出行] | 出行方式：drive\\\\n\\\\t[起点]: 121.453171,31.244431, [终点]: 121.495661,31.241563\\\\n\\\\t[直线距离]: 4002.65米\\\\n\\\\t[出行目的]: 旅游观光\\\\n\\\\t[出行类型]: 陆家嘴进出出行\\\\n\\\\n## 活动ID：1 | 活动类型：旅游观光\\\\n\\\\t[时段]: 17:00:00 - 18:28:15, 累计88.25分钟\\\\n\\\\t[地点]: 印象光绘艺术馆, 类型为展览馆 nan), 坐标经纬度为121.495661,31.241563\\\\n\\\\t[活动内容]: 在印象光绘艺术馆欣赏展览，体验光影艺术带来的视觉盛宴。馆内氛围优雅，展品生动有趣，令人流连忘返。\\\\n## 出行ID：2[第2次出行] | 出行方式：walk\\\\n\\\\t[起点]: 121.495661,31.241563, [终点]: 121.497597,31.238836\\\\n\\\\t[直线距离]: 354.74米\\\\n\\\\t[出行目的]: 餐饮活动\\\\n\\\\t[出行类型]: 陆家嘴区内出行\\\\n\\\\n## 活动ID：2 | 活动类型：餐饮活动\\\\n\\\\t[时段]: 18:30:00 - 19:36:42, 累计66.7分钟\\\\n\\\\t[地点]: I WAFFLE, 类型为美食+面包甜点+面包烘焙), 坐标经纬度为121.497597,31.238836\\\\n\\\\t[活动内容]: 在I WAFFLE享用美食，点了一份招牌华夫饼，搭配新鲜的水果和冰淇淋。\\\\n## 出行ID：3[第3次出行] | 出行方式：walk\\\\n\\\\t[起点]: 121.497597,31.238836, [终点]: 121.495248,31.241762\\\\n\\\\t[直线距离]: 394.65米\\\\n\\\\t[出行目的]: 旅游观光\\\\n\\\\t[出行类型]: 陆家嘴区内出行\\\\n\\\\n## 活动链出行链概述:\\\\n\\\\t[Ingress Phase]: 从工作地，坐标(121.453171,31.244431)出发，到达陆家嘴\\\\n\\\\t[Egress Phase]: 到达工作地，坐标(121.453171,31.244431)，结束陆家嘴内活动\\\\n\\\\n</answer>\"}'}]\n"
     ]
    },
    {
     "data": {
      "application/vnd.jupyter.widget-view+json": {
       "model_id": "301a87eec4864c3aab0bd95e6d809998",
       "version_major": 2,
       "version_minor": 0
      },
      "text/plain": [
       "Map:   0%|          | 0/600 [00:00<?, ? examples/s]"
      ]
     },
     "metadata": {},
     "output_type": "display_data"
    },
    {
     "name": "stdout",
     "output_type": "stream",
     "text": [
      "DatasetDict({\n",
      "    train: Dataset({\n",
      "        features: ['text'],\n",
      "        num_rows: 540\n",
      "    })\n",
      "    test: Dataset({\n",
      "        features: ['text'],\n",
      "        num_rows: 60\n",
      "    })\n",
      "})\n",
      "\n",
      "测试文本编码再解码:\n",
      "原始文本: <start_of_turn>human\n",
      "你好<end_of_turn><eos>\n",
      "<start_of_turn>model\n",
      "<think>用户打招呼，我应该回应</think><tool_call>{'name': 'test'}</tool_call><answer>你好！有什么我可以帮助你的吗？</answer><end_of_turn><eos>\n",
      "解码后文本: <start_of_turn>human\n",
      "你好<end_of_turn><eos>\n",
      "<start_of_turn>model\n",
      "<think>用户打招呼，我应该回应</think><tool_call>{'name': 'test'}</tool_call><answer>你好！有什么我可以帮助你的吗？</answer><end_of_turn><eos>\n",
      "文本是否保持一致: 是\n",
      "\n",
      "开始加载模型...\n"
     ]
    },
    {
     "name": "stderr",
     "output_type": "stream",
     "text": [
      "/root/miniconda3/lib/python3.10/site-packages/accelerate/utils/modeling.py:1569: UserWarning: Current model requires 128 bytes of buffer for offloaded layers, which seems does not fit any GPU's remaining memory. If you are experiencing a OOM later, please consider using offload_buffers=True.\n",
      "  warnings.warn(\n"
     ]
    },
    {
     "data": {
      "application/vnd.jupyter.widget-view+json": {
       "model_id": "dd363f66a688440d93d94b43c6bd621b",
       "version_major": 2,
       "version_minor": 0
      },
      "text/plain": [
       "Loading checkpoint shards:   0%|          | 0/4 [00:00<?, ?it/s]"
      ]
     },
     "metadata": {},
     "output_type": "display_data"
    },
    {
     "name": "stdout",
     "output_type": "stream",
     "text": [
      "\n",
      "GPU内存使用情况:\n",
      "已分配内存: 22.99 GB\n",
      "缓存内存: 23.07 GB\n"
     ]
    }
   ],
   "source": [
    "from enum import Enum\n",
    "import torch\n",
    "from transformers import AutoTokenizer, AutoModelForCausalLM\n",
    "from datasets import load_dataset\n",
    "import gc\n",
    "\n",
    "# 使用本地路径\n",
    "model_path = \"autodl-tmp/models/Qwen2.5-7B-Instruct\"\n",
    "dataset_path = \"autodl-tmp/datas/lora_finetune_dataset_functioncall_sample600.jsonl\"\n",
    "\n",
    "class ChatmlSpecialTokens(str, Enum):\n",
    "    tools = \"<tools>\"\n",
    "    eotools = \"</tools>\"\n",
    "    think = \"<think>\"\n",
    "    eothink = \"</think>\"\n",
    "    tool_call = \"<tool_call>\"\n",
    "    eotool_call = \"</tool_call>\"\n",
    "    tool_response = \"<tool_response>\"\n",
    "    eotool_response = \"</tool_response>\"\n",
    "    answer = \"<answer>\"\n",
    "    eoanswer = \"</answer>\"\n",
    "    start_of_turn = \"<start_of_turn>\"\n",
    "    end_of_turn = \"<end_of_turn>\"\n",
    "    pad_token = \"<pad>\"\n",
    "    eos_token = \"<eos>\"\n",
    "    \n",
    "    @classmethod\n",
    "    def list(cls):\n",
    "        return [c.value for c in cls]\n",
    "\n",
    "# 初始化tokenizer并添加特殊标记\n",
    "tokenizer = AutoTokenizer.from_pretrained(\n",
    "    model_path,\n",
    "    pad_token=ChatmlSpecialTokens.pad_token.value,\n",
    "    additional_special_tokens=ChatmlSpecialTokens.list()\n",
    ")\n",
    "\n",
    "# 设置聊天模板\n",
    "tokenizer.chat_template = (\n",
    "    \"{{ bos_token }}\"\n",
    "    \"{% if messages[0]['role'] == 'system' %}{{ raise_exception('System role not supported') }}{% endif %}\"\n",
    "    \"{% for message in messages %}\"\n",
    "    \"{{ '<start_of_turn>' + message['role'] + '\\n' + message['content'] | trim + '<end_of_turn><eos>\\n' }}\"\n",
    "    \"{% endfor %}\"\n",
    "    \"{% if add_generation_prompt %}{{'<start_of_turn>model\\n'}}{% endif %}\"\n",
    ")\n",
    "\n",
    "# 验证特殊标记是否已添加\n",
    "print(\"特殊标记检查:\")\n",
    "for token in ChatmlSpecialTokens.list():\n",
    "    in_special = token in tokenizer.all_special_tokens\n",
    "    print(f\"{token}: {'在特殊标记列表中' if in_special else '不在特殊标记列表中'}\")\n",
    "\n",
    "print(\"\\n分词测试:\")\n",
    "for token in ChatmlSpecialTokens.list():\n",
    "    tokens = tokenizer.tokenize(token)\n",
    "    token_ids = tokenizer.encode(token, add_special_tokens=False)\n",
    "    print(f\"{token} -> {tokens} (token_ids: {token_ids})\")\n",
    "    \n",
    "    # 一个特殊标记应该只对应一个token ID\n",
    "    if len(tokens) == 1:\n",
    "        print(f\"✓ 正确: 被识别为单个token\")\n",
    "    else:\n",
    "        print(f\"✗ 错误: 被分解为多个token\")\n",
    "\n",
    "# 从本地JSONL文件加载数据集\n",
    "dataset = load_dataset('json', data_files=dataset_path)\n",
    "dataset = dataset.rename_column(\"conversation\", \"messages\")\n",
    "\n",
    "print(\"\\nDataset sample structure:\")\n",
    "sample = dataset[\"train\"][0]\n",
    "print(type(sample[\"messages\"]))\n",
    "print(sample[\"messages\"] if isinstance(sample[\"messages\"], list) else \"Not a list\")\n",
    "\n",
    "def preprocess(sample):\n",
    "    messages = sample[\"messages\"]\n",
    "    \n",
    "    if not isinstance(messages, list):\n",
    "        return {\"text\": \"Error: unexpected message format\"}\n",
    "    \n",
    "    if messages and isinstance(messages[0], dict) and \"role\" in messages[0]:\n",
    "        if messages[0][\"role\"] == \"system\":\n",
    "            system_message_content = messages[0][\"content\"]\n",
    "            if len(messages) > 1:\n",
    "                messages[1][\"content\"] = (\n",
    "                    system_message_content +\n",
    "                    \"Also, before making a call to a function take the time to plan the function to take. \"\n",
    "                    \"Make that thinking process between <think>{your thoughts}</think>\\n\\n\" +\n",
    "                    messages[1][\"content\"]\n",
    "                )\n",
    "            messages = messages[1:]\n",
    "    \n",
    "    return {\"text\": tokenizer.apply_chat_template(messages, tokenize=False)}\n",
    "\n",
    "dataset = dataset.map(preprocess, remove_columns=[\"messages\"])\n",
    "dataset = dataset[\"train\"].train_test_split(test_size=0.1)\n",
    "print(dataset)\n",
    "\n",
    "# 测试一个包含多个特殊标记的句子\n",
    "test_text = \"<start_of_turn>human\\n你好<end_of_turn><eos>\\n<start_of_turn>model\\n<think>用户打招呼，我应该回应</think><tool_call>{'name': 'test'}</tool_call><answer>你好！有什么我可以帮助你的吗？</answer><end_of_turn><eos>\"\n",
    "encoded = tokenizer.encode(test_text)\n",
    "decoded = tokenizer.decode(encoded)\n",
    "print(\"\\n测试文本编码再解码:\")\n",
    "print(f\"原始文本: {test_text}\")\n",
    "print(f\"解码后文本: {decoded}\")\n",
    "print(f\"文本是否保持一致: {'是' if test_text == decoded else '否'}\")\n",
    "\n",
    "# 在完成数据集预处理后再加载模型\n",
    "# 清理缓存\n",
    "torch.cuda.empty_cache()\n",
    "gc.collect()\n",
    "\n",
    "# 使用device_map=\"auto\"以便更好地管理内存\n",
    "print(\"\\n开始加载模型...\")\n",
    "model = AutoModelForCausalLM.from_pretrained(\n",
    "    model_path,\n",
    "    attn_implementation='eager',\n",
    "    torch_dtype=torch.bfloat16,\n",
    "    device_map=\"auto\",\n",
    "    offload_folder=\"offload\",  # 允许必要时卸载到磁盘\n",
    ")\n",
    "\n",
    "model.resize_token_embeddings(len(tokenizer))\n",
    "\n",
    "if torch.cuda.is_available():\n",
    "    print(\"\\nGPU内存使用情况:\")\n",
    "    print(f\"已分配内存: {torch.cuda.memory_allocated() / 1024**3:.2f} GB\")\n",
    "    print(f\"缓存内存: {torch.cuda.memory_reserved() / 1024**3:.2f} GB\")"
   ]
  },
  {
   "cell_type": "markdown",
   "id": "79b78a7e-8b77-410b-b7e8-9aa68973b479",
   "metadata": {},
   "source": [
    "# 开始训练"
   ]
  },
  {
   "cell_type": "markdown",
   "id": "28efb316-ae56-42b4-88ac-46acb403e370",
   "metadata": {},
   "source": [
    "## 1.导入必要的库"
   ]
  },
  {
   "cell_type": "code",
   "execution_count": 12,
   "id": "17d6d5f1-fd3f-46c5-b33f-4cb7af9d2a37",
   "metadata": {},
   "outputs": [
    {
     "data": {
      "text/plain": [
       "<torch._C.Generator at 0x7f34b5652150>"
      ]
     },
     "execution_count": 12,
     "metadata": {},
     "output_type": "execute_result"
    }
   ],
   "source": [
    "from peft import LoraConfig, TaskType, get_peft_model\n",
    "import torch\n",
    "from trl import SFTTrainer, SFTConfig\n",
    "from transformers import AutoTokenizer, AutoModelForCausalLM\n",
    "from datasets import load_dataset\n",
    "import gc\n",
    "import os\n",
    "\n",
    "torch.manual_seed(2423)"
   ]
  },
  {
   "cell_type": "markdown",
   "id": "9275dda0-7c53-45c7-9527-8c4f73e6fec7",
   "metadata": {},
   "source": [
    "## 2.设置路径和基础配置"
   ]
  },
  {
   "cell_type": "code",
   "execution_count": 13,
   "id": "51f2cf8d-174b-487a-aa83-54234267e618",
   "metadata": {},
   "outputs": [
    {
     "name": "stdout",
     "output_type": "stream",
     "text": [
      "模型输出将保存在: autodl-tmp/log/qwen-2.5-fn_call\n"
     ]
    },
    {
     "data": {
      "text/plain": [
       "9945"
      ]
     },
     "execution_count": 13,
     "metadata": {},
     "output_type": "execute_result"
    }
   ],
   "source": [
    "model_path = \"autodl-tmp/models/Qwen2.5-7B-Instruct\"\n",
    "dataset_path = \"autodl-tmp/datas/lora_finetune_dataset_functioncall_sample600.jsonl\"\n",
    "username = \"zyss1\"\n",
    "base_log_dir = \"autodl-tmp/log\"\n",
    "output_dir = os.path.join(base_log_dir, \"qwen-2.5-fn_call\")\n",
    "os.makedirs(output_dir, exist_ok=True)\n",
    "print(f\"模型输出将保存在: {output_dir}\")\n",
    "\n",
    "torch.cuda.empty_cache()\n",
    "gc.collect()"
   ]
  },
  {
   "cell_type": "markdown",
   "id": "0089bf41-07fd-4f2d-a1d6-953a57e71382",
   "metadata": {},
   "source": [
    "## 3.定义特殊标记和准备Tokenizer"
   ]
  },
  {
   "cell_type": "code",
   "execution_count": 14,
   "id": "36b72456-cc69-4f07-b70e-d56769d4a46f",
   "metadata": {},
   "outputs": [
    {
     "name": "stdout",
     "output_type": "stream",
     "text": [
      "特殊标记检查:\n",
      "<tools>: 在特殊标记列表中\n",
      "</tools>: 在特殊标记列表中\n",
      "<think>: 在特殊标记列表中\n",
      "</think>: 在特殊标记列表中\n",
      "<tool_call>: 在特殊标记列表中\n",
      "</tool_call>: 在特殊标记列表中\n",
      "<tool_response>: 在特殊标记列表中\n",
      "</tool_response>: 在特殊标记列表中\n",
      "<answer>: 在特殊标记列表中\n",
      "</answer>: 在特殊标记列表中\n",
      "<start_of_turn>: 在特殊标记列表中\n",
      "<end_of_turn>: 在特殊标记列表中\n",
      "<pad>: 在特殊标记列表中\n",
      "<eos>: 在特殊标记列表中\n"
     ]
    }
   ],
   "source": [
    "from enum import Enum\n",
    "\n",
    "class ChatmlSpecialTokens(str, Enum):\n",
    "    tools = \"<tools>\"\n",
    "    eotools = \"</tools>\"\n",
    "    think = \"<think>\"\n",
    "    eothink = \"</think>\"\n",
    "    tool_call = \"<tool_call>\"\n",
    "    eotool_call = \"</tool_call>\"\n",
    "    tool_response = \"<tool_response>\"\n",
    "    eotool_response = \"</tool_response>\"\n",
    "    answer = \"<answer>\"\n",
    "    eoanswer = \"</answer>\"\n",
    "    start_of_turn = \"<start_of_turn>\"\n",
    "    end_of_turn = \"<end_of_turn>\"\n",
    "    pad_token = \"<pad>\"\n",
    "    eos_token = \"<eos>\"\n",
    "    \n",
    "    @classmethod\n",
    "    def list(cls):\n",
    "        return [c.value for c in cls]\n",
    "\n",
    "tokenizer = AutoTokenizer.from_pretrained(\n",
    "    model_path,\n",
    "    pad_token=ChatmlSpecialTokens.pad_token.value,\n",
    "    additional_special_tokens=ChatmlSpecialTokens.list()\n",
    ")\n",
    "\n",
    "tokenizer.chat_template = (\n",
    "    \"{{ bos_token }}\"\n",
    "    \"{% if messages[0]['role'] == 'system' %}{{ raise_exception('System role not supported') }}{% endif %}\"\n",
    "    \"{% for message in messages %}\"\n",
    "    \"{{ '<start_of_turn>' + message['role'] + '\\n' + message['content'] | trim + '<end_of_turn><eos>\\n' }}\"\n",
    "    \"{% endfor %}\"\n",
    "    \"{% if add_generation_prompt %}{{'<start_of_turn>model\\n'}}{% endif %}\"\n",
    ")\n",
    "\n",
    "print(\"特殊标记检查:\")\n",
    "for token in ChatmlSpecialTokens.list():\n",
    "    in_special = token in tokenizer.all_special_tokens\n",
    "    print(f\"{token}: {'在特殊标记列表中' if in_special else '不在特殊标记列表中'}\")"
   ]
  },
  {
   "cell_type": "markdown",
   "id": "db3a87c5-42dd-4cde-86cb-6364ec5af74e",
   "metadata": {},
   "source": [
    "## 加载数据集并预处理"
   ]
  },
  {
   "cell_type": "code",
   "execution_count": 16,
   "id": "2e3ba5c0-4f58-4ee1-9ebd-098f4d9acbd6",
   "metadata": {},
   "outputs": [
    {
     "name": "stdout",
     "output_type": "stream",
     "text": [
      "\n",
      "Dataset sample structure:\n",
      "<class 'list'>\n",
      "[{'role': 'system', 'content': '你现在是一位在上海陆家嘴区域活动的人，请以第一人称视角回忆你的活动轨迹。下面<tools></tools>标签中提供了一些可以辅助你回忆细节的工具函数：<tools>[  {    \"type\": \"function\",     \"function\": {      \"name\": \"query_date\",       \"description\": \"生成一个工作日日期，帮助你回忆具体是哪一天\",       \"parameters\": {        \"type\": \"object\",         \"properties\": {}      }    }  },   {    \"type\": \"function\",     \"function\": {      \"name\": \"get_lujiazui_transition_info\",       \"description\": \"帮助你回忆进出陆家嘴的信息，包括从哪里来、什么时候到达、离开时间和去向\",       \"parameters\": {        \"type\": \"object\",         \"properties\": {          \"person_type_inljz\": {            \"type\": \"string\",             \"description\": \"你在陆家嘴活动的人群画像，仅限于以下五种：\\'工作人群\\',\\'陆家嘴本地居民\\',\\'旅游人群\\',\\'商务人群\\',\\'到访商业消费人群\\'\"          }        },         \"required\": [\"person_type_inljz\"]      }    }  },   {    \"type\": \"function\",     \"function\": {      \"name\": \"query_location_info\",       \"description\": \"帮助你回忆在陆家嘴进行活动的具体地点\",       \"parameters\": {        \"type\": \"object\",         \"properties\": {          \"activity_type\": {            \"type\": \"string\",             \"description\": \"活动类型，仅限于以下七种：\\'就业工作\\'、\\'餐饮活动\\'、\\'购物消费\\'、\\'居住休憩\\'、\\'旅游观光\\'、\\'文体休闲\\'、\\'生活服务\\'\"          },           \"current_location\": {            \"type\": \"string\",             \"description\": \"你当前所在位置的坐标\"          }        },         \"required\": [\"activity_type\"]      }    }  }]</tools>在回忆过程中，请以第一人称视角思考你的活动轨迹。在<think></think>标签内，你应该像真实的人一样思考和回忆并且正确选择调用工具函数，例如\\'我记得我当时在哪里\\'、\\'我去了什么地方\\'等。这些思考应该反映出一个人在尝试回忆过去经历时的自然思维过程。然后在<tool_call></tool_call>标签内正确调用相应的工具来帮助你具体回忆细节。注意：你只能使用以上定义的工具函数，不要编造新的函数名。所有坐标信息均使用\\'经度,纬度\\'格式。'}, {'role': 'human', 'content': '生成一份记录陆家嘴区域内某人全天活动的轨迹信息。'}, {'role': 'model', 'content': '{\"steps\": [{\"think\": \"<think>\\\\n陆家嘴之行...首先要确定具体日期。对我这样的旅游人群来说，虽然记得那是个工作日，办公楼里人来人往，但具体日期如同云雾中的月亮，朦胧不清。使用query_date工具查询一下，给记忆找个明确的起点。\\\\n</think>\", \"tool_call\": \"<tool_call> {\\'name\\': \\'query_date\\', \\'arguments\\': {}} </tool_call>\", \"tool_response\": \"<tool_response> {\\'date\\': \\'2024年9月18日，星期三\\'} </tool_response>\"}, {\"think\": \"<think>\\\\n日期有了，下一步是梳理行程的起止点。出发地在哪？几点到的陆家嘴？离开时间是？去向又是哪里？我感觉记忆有些模糊，最好用get_lujiazui_transition_info工具确认一下这些关键节点。\\\\n</think>\", \"tool_call\": \"<tool_call>{\\'name\\': \\'get_lujiazui_transition_info\\', \\'arguments\\': {\\'person_type_inljz\\': \\'旅游人群\\'}}</tool_call>\", \"tool_response\": \"<tool_response>{\\'pre_location_type\\': \\'工作地\\', \\'pre_location_coord\\': \\'121.453171,31.244431\\', \\'arrival_time\\': \\'17:00:00\\', \\'post_location_type\\': \\'工作地\\', \\'post_location_coord\\': \\'121.453171,31.244431\\', \\'departure_time\\': \\'19:36:42\\'}</tool_response>\"}, {\"think\": \"<think>\\\\n我在陆家嘴的首个目的地是进行旅游观光。嗯...我去的那个地方环境不错，但名字是什么？位于哪个具体位置？有点想不起来了。查询一下陆家嘴区域内的相关场所，应该能帮我回忆起来。\\\\n</think>\", \"tool_call\": \"<tool_call> {\\'name\\': \\'query_location_info\\', \\'arguments\\': {\\'activity_type\\': \\'旅游观光\\', \\'current_location\\': \\'null\\'}} </tool_call>\", \"tool_response\": \"<tool_response> {\\'poi_candidate\\': \\'[1] name:上海海洋水族馆-斑海豹, type:风景名胜+风景名胜相关+旅游景点, location:121.497136,31.242619\\\\n[2] name:印象光绘艺术馆, type:展览馆 nan, location:121.495661,31.241563\\\\n[3] name:陆家嘴社区双拥广场, type:风景名胜+公园广场+公园广场, location:121.525573,31.23617\\\\n[4] name:上海海洋水族馆-马蹄蟹(鲎), type:风景名胜+风景名胜相关+旅游景点, location:121.497046,31.242611\\\\n[5] name:太清宫(北2门), type:风景名胜+风景名胜相关+旅游景点, location:121.52837,31.236624\\'} </tool_response>\"}, {\"think\": \"<think>\\\\n从121.495661,31.241563离开后，我想找个地方进行餐饮活动，这是我当天的第2个活动。但具体去了哪里？位置在哪？有多远？我需要用location查询工具帮我列出一些合理的选项。\\\\n</think>\", \"tool_call\": \"<tool_call> {\\'name\\': \\'query_location_info\\', \\'arguments\\': {\\'activity_type\\': \\'餐饮活动\\', \\'current_location\\': \\'121.495661,31.241563\\'}} </tool_call>\", \"tool_response\": \"<tool_response> {\\'poi_candidate\\': \\'[1] name:Joy, type:餐饮服务+餐饮相关场所+餐饮相关, location:121.514341,31.231896, line_distance:2075米\\\\n[2] name:继光香香鸡(正大广场店), type:餐饮服务+餐饮相关场所+餐饮相关, location:121.494799,31.238833, line_distance:314米\\\\n[3] name:万来甘栗(国金店), type:餐饮服务+快餐厅+快餐厅, location:121.496536,31.238375, line_distance:364米\\\\n[4] name:和彩放题(八佰伴店), type:餐饮服务+外国餐厅+日本料理, location:121.51358,31.23333, line_distance:1934米\\\\n[5] name:I WAFFLE, type:美食+面包甜点+面包烘焙, location:121.497597,31.238836, line_distance:354.7185205642836米\\'} </tool_response>\"}], \"final_answer\": \"<answer>\\\\n# 个体基本信息\\\\n\\\\t[陆家嘴活动人群画像]: 旅游人群\\\\n\\\\t[年龄]: 58岁\\\\n\\\\t[性别]: 女性\\\\n\\\\t[家庭结构]: 单人户\\\\n\\\\t[个人月收入]: 15000元/月\\\\n\\\\t[家庭可支配收入]: 8000元/月\\\\n\\\\t[交通工具保有情况]: 私家车\\\\n---\\\\n# 在上海市陆家嘴区域内(2024年10月9日，星期三)一天内的完整活动轨迹记录\\\\n\\\\n## 非陆家嘴活动概述\\\\n\\\\t[陆家嘴前出发地]: 工作地, 坐标经纬度为121.453171,31.244431\\\\n\\\\t[到达陆家嘴时间]: 17:00:00\\\\n\\\\t[陆家嘴后目的地]: 工作地, 坐标经纬度为121.453171,31.244431\\\\n\\\\t[离开陆家嘴时间]: 19:36:42\\\\n\\\\n## 出行ID：1[第1次出行] | 出行方式：drive\\\\n\\\\t[起点]: 121.453171,31.244431, [终点]: 121.495661,31.241563\\\\n\\\\t[直线距离]: 4002.65米\\\\n\\\\t[出行目的]: 旅游观光\\\\n\\\\t[出行类型]: 陆家嘴进出出行\\\\n\\\\n## 活动ID：1 | 活动类型：旅游观光\\\\n\\\\t[时段]: 17:00:00 - 18:28:15, 累计88.25分钟\\\\n\\\\t[地点]: 印象光绘艺术馆, 类型为展览馆 nan), 坐标经纬度为121.495661,31.241563\\\\n\\\\t[活动内容]: 在印象光绘艺术馆欣赏展览，体验光影艺术带来的视觉盛宴。馆内氛围优雅，展品生动有趣，令人流连忘返。\\\\n## 出行ID：2[第2次出行] | 出行方式：walk\\\\n\\\\t[起点]: 121.495661,31.241563, [终点]: 121.497597,31.238836\\\\n\\\\t[直线距离]: 354.74米\\\\n\\\\t[出行目的]: 餐饮活动\\\\n\\\\t[出行类型]: 陆家嘴区内出行\\\\n\\\\n## 活动ID：2 | 活动类型：餐饮活动\\\\n\\\\t[时段]: 18:30:00 - 19:36:42, 累计66.7分钟\\\\n\\\\t[地点]: I WAFFLE, 类型为美食+面包甜点+面包烘焙), 坐标经纬度为121.497597,31.238836\\\\n\\\\t[活动内容]: 在I WAFFLE享用美食，点了一份招牌华夫饼，搭配新鲜的水果和冰淇淋。\\\\n## 出行ID：3[第3次出行] | 出行方式：walk\\\\n\\\\t[起点]: 121.497597,31.238836, [终点]: 121.495248,31.241762\\\\n\\\\t[直线距离]: 394.65米\\\\n\\\\t[出行目的]: 旅游观光\\\\n\\\\t[出行类型]: 陆家嘴区内出行\\\\n\\\\n## 活动链出行链概述:\\\\n\\\\t[Ingress Phase]: 从工作地，坐标(121.453171,31.244431)出发，到达陆家嘴\\\\n\\\\t[Egress Phase]: 到达工作地，坐标(121.453171,31.244431)，结束陆家嘴内活动\\\\n\\\\n</answer>\"}'}]\n",
      "DatasetDict({\n",
      "    train: Dataset({\n",
      "        features: ['text'],\n",
      "        num_rows: 570\n",
      "    })\n",
      "    test: Dataset({\n",
      "        features: ['text'],\n",
      "        num_rows: 30\n",
      "    })\n",
      "})\n"
     ]
    }
   ],
   "source": [
    "dataset = load_dataset('json', data_files=dataset_path)\n",
    "dataset = dataset.rename_column(\"conversation\", \"messages\")\n",
    "\n",
    "print(\"\\nDataset sample structure:\")\n",
    "sample = dataset[\"train\"][0]\n",
    "print(type(sample[\"messages\"]))\n",
    "print(sample[\"messages\"] if isinstance(sample[\"messages\"], list) else \"Not a list\")\n",
    "\n",
    "def preprocess(sample):\n",
    "    messages = sample[\"messages\"]\n",
    "    \n",
    "    if not isinstance(messages, list):\n",
    "        return {\"text\": \"Error: unexpected message format\"}\n",
    "    \n",
    "    if messages and isinstance(messages[0], dict) and \"role\" in messages[0]:\n",
    "        if messages[0][\"role\"] == \"system\":\n",
    "            system_message_content = messages[0][\"content\"]\n",
    "            if len(messages) > 1:\n",
    "                messages[1][\"content\"] = (\n",
    "                    system_message_content +\n",
    "                    \"Also, before making a call to a function take the time to plan the function to take. \"\n",
    "                    \"Make that thinking process between <think>{your thoughts}</think>\\n\\n\" +\n",
    "                    messages[1][\"content\"]\n",
    "                )\n",
    "            messages = messages[1:]\n",
    "    \n",
    "    return {\"text\": tokenizer.apply_chat_template(messages, tokenize=False)}\n",
    "\n",
    "dataset = dataset.map(preprocess, remove_columns=[\"messages\"])\n",
    "dataset = dataset[\"train\"].train_test_split(test_size=0.05)\n",
    "print(dataset)"
   ]
  },
  {
   "cell_type": "markdown",
   "id": "cbff565c-3dfa-435e-a9eb-766ee93cf1c3",
   "metadata": {},
   "source": [
    "## 5.加载模型"
   ]
  },
  {
   "cell_type": "code",
   "execution_count": 17,
   "id": "3c51c434-bd59-4500-8d71-1027ab599f63",
   "metadata": {},
   "outputs": [
    {
     "name": "stdout",
     "output_type": "stream",
     "text": [
      "\n",
      "开始加载模型...\n"
     ]
    },
    {
     "data": {
      "application/vnd.jupyter.widget-view+json": {
       "model_id": "7ed62ff71b2347638f645117a07b7d32",
       "version_major": 2,
       "version_minor": 0
      },
      "text/plain": [
       "Loading checkpoint shards:   0%|          | 0/4 [00:00<?, ?it/s]"
      ]
     },
     "metadata": {},
     "output_type": "display_data"
    },
    {
     "name": "stdout",
     "output_type": "stream",
     "text": [
      "\n",
      "GPU内存使用情况:\n",
      "已分配内存: 18.59 GB\n",
      "缓存内存: 19.79 GB\n"
     ]
    }
   ],
   "source": [
    "torch.cuda.empty_cache()\n",
    "gc.collect()\n",
    "\n",
    "print(\"\\n开始加载模型...\")\n",
    "model = AutoModelForCausalLM.from_pretrained(\n",
    "    model_path,\n",
    "    attn_implementation='eager',\n",
    "    torch_dtype=torch.bfloat16,\n",
    "    device_map=\"auto\",\n",
    ")\n",
    "\n",
    "model.resize_token_embeddings(len(tokenizer))\n",
    "\n",
    "if torch.cuda.is_available():\n",
    "    print(\"\\nGPU内存使用情况:\")\n",
    "    print(f\"已分配内存: {torch.cuda.memory_allocated() / 1024**3:.2f} GB\")\n",
    "    print(f\"缓存内存: {torch.cuda.memory_reserved() / 1024**3:.2f} GB\")"
   ]
  },
  {
   "cell_type": "markdown",
   "id": "387ef71c-dc5e-4b09-bd09-b0c157b7afed",
   "metadata": {},
   "source": [
    "## 6.配置LoRA参数"
   ]
  },
  {
   "cell_type": "code",
   "execution_count": 18,
   "id": "af3ef8a8-78f8-4eb8-9120-d8189e9ccddf",
   "metadata": {},
   "outputs": [
    {
     "name": "stdout",
     "output_type": "stream",
     "text": [
      "trainable params: 42,854,352 || all params: 7,655,696,848 || trainable%: 0.5598\n"
     ]
    }
   ],
   "source": [
    "# LoRA参数配置\n",
    "# r: 低秩矩阵的维度，越小压缩率越高，训练所需显存越少\n",
    "rank_dimension = 16  \n",
    "# lora_alpha: LoRA层的缩放因子，越高调整效果越强\n",
    "lora_alpha = 32  # 从64减小到32，以增加稳定性\n",
    "# lora_dropout: LoRA层的dropout概率，防止过拟合\n",
    "lora_dropout = 0.05  \n",
    "\n",
    "# Qwen2.5针对函数调用的LoRA配置\n",
    "peft_config = LoraConfig(\n",
    "    r=rank_dimension,\n",
    "    lora_alpha=lora_alpha,\n",
    "    lora_dropout=lora_dropout,\n",
    "    # 目标模块 - 确保这些层名称在Qwen2.5模型中存在\n",
    "    target_modules=[\n",
    "        \"q_proj\",     # 注意力机制的查询投影\n",
    "        \"k_proj\",     # 注意力机制的键投影\n",
    "        \"v_proj\",     # 注意力机制的值投影\n",
    "        \"o_proj\",     # 注意力输出投影\n",
    "        \"gate_proj\",  # MLP门控投影\n",
    "        \"up_proj\",    # MLP上投影\n",
    "        \"down_proj\",  # MLP下投影\n",
    "        \"lm_head\",    # 语言模型输出头\n",
    "    ],\n",
    "    bias=\"none\",     # 不训练偏置项，节省参数\n",
    "    task_type=TaskType.CAUSAL_LM,  # 任务类型：因果语言模型\n",
    ")\n",
    "\n",
    "# 将LoRA应用到模型\n",
    "model = get_peft_model(model, peft_config)\n",
    "model.print_trainable_parameters()  # 打印可训练参数占比"
   ]
  },
  {
   "cell_type": "markdown",
   "id": "8c5137c9-c156-4c4f-b1e1-6f6c4167b832",
   "metadata": {},
   "source": [
    "## 7.配置训练参数"
   ]
  },
  {
   "cell_type": "code",
   "execution_count": 29,
   "id": "804a5569-3bbb-4166-9e03-c1b92d7d39f7",
   "metadata": {},
   "outputs": [],
   "source": [
    "per_device_train_batch_size = 1  # 每个GPU的训练批次大小\n",
    "per_device_eval_batch_size = 1   # 每个GPU的验证批次大小\n",
    "gradient_accumulation_steps = 4  # 梯度累积步数，增大相当于增大批次大小\n",
    "logging_steps = 5               # 每多少步记录一次日志\n",
    "learning_rate = 1e-4            # 初始学习率\n",
    "\n",
    "max_grad_norm = 1.0             # 梯度裁剪值，防止梯度爆炸\n",
    "num_train_epochs = 1            # 训练轮数\n",
    "warmup_ratio = 0.1              # 预热比例，学习率从0逐渐增加到设定值\n",
    "lr_scheduler_type = \"cosine\"    # 学习率调度器类型\n",
    "max_seq_length = 4096           # 最大序列长度，根据你的数据调整\n",
    "\n",
    "training_arguments = SFTConfig(\n",
    "    output_dir=output_dir,\n",
    "    per_device_train_batch_size=per_device_train_batch_size,\n",
    "    per_device_eval_batch_size=per_device_eval_batch_size,\n",
    "    gradient_accumulation_steps=gradient_accumulation_steps,\n",
    "    save_strategy=\"no\",          # 不保存中间检查点\n",
    "    eval_strategy=\"epoch\",       # 每轮结束评估一次\n",
    "    logging_steps=logging_steps,\n",
    "    learning_rate=learning_rate,\n",
    "    max_grad_norm=max_grad_norm,\n",
    "    weight_decay=0.1,            # L2正则化强度\n",
    "    warmup_ratio=warmup_ratio,\n",
    "    lr_scheduler_type=lr_scheduler_type,\n",
    "    report_to=\"tensorboard\",     # 使用tensorboard记录指标\n",
    "    bf16=True,                   # 使用bfloat16混合精度训练\n",
    "    hub_private_repo=False,      # 上传到Hub的选项\n",
    "    push_to_hub=False,           # 是否将模型推送到HuggingFace Hub\n",
    "    num_train_epochs=num_train_epochs,\n",
    "    # 启用梯度检查点以节省GPU内存\n",
    "    gradient_checkpointing=True,\n",
    "    gradient_checkpointing_kwargs={\"use_reentrant\": False},\n",
    "    packing=True,                # 打包序列以提高训练效率\n",
    "    max_seq_length=max_seq_length,\n",
    ")"
   ]
  },
  {
   "cell_type": "markdown",
   "id": "835bebeb-076b-494b-9de7-a779e4830566",
   "metadata": {},
   "source": [
    "## 8.创建SFT训练器并开始训练"
   ]
  },
  {
   "cell_type": "code",
   "execution_count": null,
   "id": "efd519de-bcdd-4d76-9103-806f8c351a53",
   "metadata": {},
   "outputs": [
    {
     "name": "stderr",
     "output_type": "stream",
     "text": [
      "2025-03-20 23:20:41,595 - __main__ - INFO - 日志将保存在: ./qwen_output/logs/training_log_20250320_232041.txt\n",
      "2025-03-20 23:20:41,598 - __main__ - INFO - 开始加载模型...\n",
      "Sliding Window Attention is enabled but not implemented for `sdpa`; unexpected results may be encountered.\n",
      "2025-03-20 23:20:41,720 - accelerate.utils.modeling - INFO - We will use 90% of the memory on device 0 for storing the model, and 10% for the buffer to avoid OOM. You can set `max_memory` in to a higher value to use more memory (at your own risk).\n"
     ]
    },
    {
     "data": {
      "application/vnd.jupyter.widget-view+json": {
       "model_id": "b88f3028f0ed4d6692ec6e69b0868d98",
       "version_major": 2,
       "version_minor": 0
      },
      "text/plain": [
       "Loading checkpoint shards:   0%|          | 0/4 [00:00<?, ?it/s]"
      ]
     },
     "metadata": {},
     "output_type": "display_data"
    },
    {
     "name": "stderr",
     "output_type": "stream",
     "text": [
      "2025-03-20 23:20:48,547 - __main__ - INFO - 模型加载完成\n",
      "/root/miniconda3/lib/python3.10/site-packages/transformers/training_args.py:1594: FutureWarning: `evaluation_strategy` is deprecated and will be removed in version 4.46 of 🤗 Transformers. Use `eval_strategy` instead\n",
      "  warnings.warn(\n",
      "/tmp/ipykernel_1509/2414659763.py:160: FutureWarning: `tokenizer` is deprecated and removed starting from version 0.16.0 for `SFTTrainer.__init__`. Use `processing_class` instead.\n",
      "  trainer = SFTTrainer(\n",
      "/root/miniconda3/lib/python3.10/site-packages/transformers/training_args.py:1594: FutureWarning: `evaluation_strategy` is deprecated and will be removed in version 4.46 of 🤗 Transformers. Use `eval_strategy` instead\n",
      "  warnings.warn(\n",
      "/root/miniconda3/lib/python3.10/site-packages/transformers/training_args.py:1594: FutureWarning: `evaluation_strategy` is deprecated and will be removed in version 4.46 of 🤗 Transformers. Use `eval_strategy` instead\n",
      "  warnings.warn(\n"
     ]
    },
    {
     "data": {
      "application/vnd.jupyter.widget-view+json": {
       "model_id": "f1cde7e85c9d459dbeb09a7f37be1e20",
       "version_major": 2,
       "version_minor": 0
      },
      "text/plain": [
       "Truncating train dataset:   0%|          | 0/570 [00:00<?, ? examples/s]"
      ]
     },
     "metadata": {},
     "output_type": "display_data"
    },
    {
     "data": {
      "application/vnd.jupyter.widget-view+json": {
       "model_id": "e3af63e75225413da516626da4e34933",
       "version_major": 2,
       "version_minor": 0
      },
      "text/plain": [
       "Truncating eval dataset:   0%|          | 0/30 [00:00<?, ? examples/s]"
      ]
     },
     "metadata": {},
     "output_type": "display_data"
    },
    {
     "name": "stderr",
     "output_type": "stream",
     "text": [
      "No label_names provided for model class `PeftModelForCausalLM`. Since `PeftModel` hides base models input arguments, if label_names is not given, label_names can't be set automatically within `Trainer`. Note that empty label_names list will be used instead.\n",
      "2025-03-20 23:20:50,785 - __main__ - INFO - \n",
      "训练前GPU内存使用情况:\n",
      "2025-03-20 23:20:50,787 - __main__ - INFO - 已分配内存: 21.69 GB\n",
      "2025-03-20 23:20:50,788 - __main__ - INFO - 缓存内存: 22.83 GB\n",
      "2025-03-20 23:20:50,788 - __main__ - INFO - \n",
      "=== 开始训练 | 时间: 2025-03-20 23:20:50 ===\n",
      "2025-03-20 23:20:50,789 - __main__ - INFO - 训练集大小: 570 样本\n",
      "2025-03-20 23:20:50,790 - __main__ - INFO - 验证集大小: 30 样本\n",
      "2025-03-20 23:20:50,791 - __main__ - INFO - 批次大小: 1 * 10 (梯度累积)\n",
      "2025-03-20 23:20:50,792 - __main__ - INFO - 训练轮数: 3\n",
      "2025-03-20 23:20:50,792 - __main__ - INFO - 学习率: 2e-05\n",
      "2025-03-20 23:20:50,793 - __main__ - INFO - LoRA秩维度: 10\n",
      "2025-03-20 23:20:50,794 - __main__ - INFO - LoRA缩放因子: 32\n",
      "2025-03-20 23:20:50,795 - __main__ - INFO - 使用4位量化: 是\n",
      "2025-03-20 23:20:50,796 - __main__ - INFO - 使用梯度检查点: True\n",
      "2025-03-20 23:20:50,796 - __main__ - INFO - 使用半精度训练: True\n"
     ]
    },
    {
     "data": {
      "text/html": [
       "\n",
       "    <div>\n",
       "      \n",
       "      <progress value='25' max='171' style='width:300px; height:20px; vertical-align: middle;'></progress>\n",
       "      [ 25/171 02:37 < 16:38, 0.15 it/s, Epoch 0.42/3]\n",
       "    </div>\n",
       "    <table border=\"1\" class=\"dataframe\">\n",
       "  <thead>\n",
       " <tr style=\"text-align: left;\">\n",
       "      <th>Step</th>\n",
       "      <th>Training Loss</th>\n",
       "      <th>Validation Loss</th>\n",
       "    </tr>\n",
       "  </thead>\n",
       "  <tbody>\n",
       "  </tbody>\n",
       "</table><p>"
      ],
      "text/plain": [
       "<IPython.core.display.HTML object>"
      ]
     },
     "metadata": {},
     "output_type": "display_data"
    },
    {
     "name": "stderr",
     "output_type": "stream",
     "text": [
      "2025-03-20 23:23:08,158 - __main__ - INFO - 步骤: 20/171 (11.70%) | 损失: 2.6866 | 平均步骤时间: 6.83s | 已运行时间: 00:02:19 | 预计剩余时间: 00:17:11 | GPU内存: 7.30GB/11.14GB\n"
     ]
    }
   ],
   "source": [
    "import logging\n",
    "import time\n",
    "import os\n",
    "import gc\n",
    "import torch\n",
    "from datetime import datetime\n",
    "from transformers.trainer_callback import TrainerCallback\n",
    "from transformers import BitsAndBytesConfig, AutoModelForCausalLM\n",
    "from transformers import AutoTokenizer\n",
    "from trl import SFTTrainer\n",
    "from peft import LoraConfig\n",
    "\n",
    "# 设置离线模式\n",
    "os.environ[\"HF_HUB_OFFLINE\"] = \"1\"\n",
    "\n",
    "# 强制清理内存\n",
    "torch.cuda.empty_cache()\n",
    "gc.collect()\n",
    "\n",
    "# 设置环境变量以优化CUDA内存分配\n",
    "os.environ['PYTORCH_CUDA_ALLOC_CONF'] = 'max_split_size_mb:64'\n",
    "\n",
    "# 定义输出目录和模型路径\n",
    "output_dir = \"./qwen_output\"\n",
    "model_name = \"/root/autodl-tmp/models/Qwen2.5-7B-Instruct\"\n",
    "\n",
    "# 创建日志目录\n",
    "log_dir = os.path.join(output_dir, \"logs\")\n",
    "os.makedirs(log_dir, exist_ok=True)\n",
    "\n",
    "# 设置日志\n",
    "timestamp = datetime.now().strftime(\"%Y%m%d_%H%M%S\")\n",
    "log_file = os.path.join(log_dir, f\"training_log_{timestamp}.txt\")\n",
    "\n",
    "logging.basicConfig(\n",
    "    level=logging.INFO,\n",
    "    format='%(asctime)s - %(name)s - %(levelname)s - %(message)s',\n",
    "    handlers=[\n",
    "        logging.FileHandler(log_file),\n",
    "        logging.StreamHandler()\n",
    "    ]\n",
    ")\n",
    "logger = logging.getLogger(__name__)\n",
    "logger.info(f\"日志将保存在: {log_file}\")\n",
    "\n",
    "# 4位量化配置\n",
    "quantization_config = BitsAndBytesConfig(\n",
    "    load_in_4bit=True,\n",
    "    bnb_4bit_compute_dtype=torch.float16,\n",
    "    bnb_4bit_use_double_quant=True,\n",
    "    bnb_4bit_quant_type=\"nf4\"\n",
    ")\n",
    "\n",
    "# 加载模型\n",
    "logger.info(\"开始加载模型...\")\n",
    "model = AutoModelForCausalLM.from_pretrained(\n",
    "    model_name,\n",
    "    quantization_config=quantization_config,\n",
    "    torch_dtype=torch.float16,\n",
    "    device_map=\"auto\",\n",
    "    local_files_only=True,\n",
    "    trust_remote_code=True\n",
    ")\n",
    "logger.info(\"模型加载完成\")\n",
    "\n",
    "# 设置LoRA配置\n",
    "peft_config = LoraConfig(\n",
    "    r=10,\n",
    "    lora_alpha=32,\n",
    "    lora_dropout=0.05,\n",
    "    bias=\"none\",\n",
    "    task_type=\"CAUSAL_LM\",\n",
    "    target_modules=[\"q_proj\", \"k_proj\", \"v_proj\", \"o_proj\"]\n",
    ")\n",
    "\n",
    "# 定义训练参数\n",
    "from transformers import TrainingArguments\n",
    "\n",
    "training_arguments = TrainingArguments(\n",
    "    output_dir=output_dir,\n",
    "    num_train_epochs=3,\n",
    "    per_device_train_batch_size=1,\n",
    "    learning_rate=2e-5,\n",
    "    gradient_accumulation_steps=10,\n",
    "    gradient_checkpointing=True,\n",
    "    per_device_eval_batch_size=1,\n",
    "    optim=\"paged_adamw_8bit\",\n",
    "    fp16=True,\n",
    "    logging_steps=20,\n",
    "    save_steps=100,\n",
    "    logging_strategy=\"steps\",\n",
    "    logging_dir=log_dir,\n",
    "    logging_first_step=True,\n",
    "    report_to=[\"tensorboard\"],\n",
    "    save_strategy=\"steps\",\n",
    "    load_best_model_at_end=True,\n",
    "    metric_for_best_model=\"eval_loss\",\n",
    "    evaluation_strategy=\"steps\",\n",
    "    eval_steps=100,\n",
    "    warmup_ratio=0.1,\n",
    "    weight_decay=0.01,\n",
    ")\n",
    "\n",
    "# 创建自定义回调\n",
    "class DetailedProgressCallback(TrainerCallback):\n",
    "    def __init__(self):\n",
    "        self.start_time = time.time()\n",
    "        self.step_times = []\n",
    "        \n",
    "    def on_step_begin(self, args, state, control, **kwargs):\n",
    "        self.step_start_time = time.time()\n",
    "        # 每10步清理一次缓存\n",
    "        if state.global_step % 10 == 0:\n",
    "            torch.cuda.empty_cache()\n",
    "        \n",
    "    def on_step_end(self, args, state, control, **kwargs):\n",
    "        step_time = time.time() - self.step_start_time\n",
    "        self.step_times.append(step_time)\n",
    "        avg_step_time = sum(self.step_times[-20:]) / min(len(self.step_times), 20)\n",
    "        \n",
    "        # 只在日志步骤记录详细信息\n",
    "        if state.global_step % training_arguments.logging_steps == 0:\n",
    "            elapsed = time.time() - self.start_time\n",
    "            elapsed_str = time.strftime(\"%H:%M:%S\", time.gmtime(elapsed))\n",
    "            \n",
    "            total_steps = state.max_steps\n",
    "            remaining_steps = total_steps - state.global_step\n",
    "            estimated_remaining_time = remaining_steps * avg_step_time\n",
    "            remaining_str = time.strftime(\"%H:%M:%S\", time.gmtime(estimated_remaining_time))\n",
    "            \n",
    "            loss = state.log_history[-1].get(\"loss\", \"N/A\") if state.log_history else \"N/A\"\n",
    "            \n",
    "            memory_allocated = torch.cuda.memory_allocated() / 1024**3\n",
    "            memory_reserved = torch.cuda.memory_reserved() / 1024**3\n",
    "            \n",
    "            logger.info(\n",
    "                f\"步骤: {state.global_step}/{total_steps} ({(state.global_step/total_steps*100):.2f}%) | \"\n",
    "                f\"损失: {loss} | \"\n",
    "                f\"平均步骤时间: {avg_step_time:.2f}s | \"\n",
    "                f\"已运行时间: {elapsed_str} | \"\n",
    "                f\"预计剩余时间: {remaining_str} | \"\n",
    "                f\"GPU内存: {memory_allocated:.2f}GB/{memory_reserved:.2f}GB\"\n",
    "            )\n",
    "    \n",
    "    def on_evaluate(self, args, state, control, metrics=None, **kwargs):\n",
    "        if metrics:\n",
    "            eval_loss = metrics.get(\"eval_loss\", \"N/A\")\n",
    "            logger.info(f\"【评估】当前步骤: {state.global_step} | 验证损失: {eval_loss}\")\n",
    "\n",
    "# 限制数据集大小\n",
    "if len(dataset[\"train\"]) > 1000:\n",
    "    logger.info(f\"缩减训练集大小: {len(dataset['train'])} -> 1000\")\n",
    "    dataset[\"train\"] = dataset[\"train\"].select(range(1000))\n",
    "    \n",
    "if len(dataset[\"test\"]) > 200:\n",
    "    logger.info(f\"缩减测试集大小: {len(dataset['test'])} -> 200\")\n",
    "    dataset[\"test\"] = dataset[\"test\"].select(range(200))\n",
    "\n",
    "# 创建SFT训练器\n",
    "trainer = SFTTrainer(\n",
    "    model=model,\n",
    "    args=training_arguments,\n",
    "    train_dataset=dataset[\"train\"],\n",
    "    eval_dataset=dataset[\"test\"],\n",
    "    tokenizer=tokenizer,\n",
    "    peft_config=peft_config,\n",
    "    callbacks=[DetailedProgressCallback()]\n",
    ")\n",
    "\n",
    "# 打印训练前GPU使用情况\n",
    "if torch.cuda.is_available():\n",
    "    logger.info(\"\\n训练前GPU内存使用情况:\")\n",
    "    logger.info(f\"已分配内存: {torch.cuda.memory_allocated() / 1024**3:.2f} GB\")\n",
    "    logger.info(f\"缓存内存: {torch.cuda.memory_reserved() / 1024**3:.2f} GB\")\n",
    "\n",
    "# 打印训练信息\n",
    "logger.info(f\"\\n=== 开始训练 | 时间: {datetime.now().strftime('%Y-%m-%d %H:%M:%S')} ===\")\n",
    "logger.info(f\"训练集大小: {len(dataset['train'])} 样本\")\n",
    "logger.info(f\"验证集大小: {len(dataset['test'])} 样本\")\n",
    "logger.info(f\"批次大小: {training_arguments.per_device_train_batch_size} * {training_arguments.gradient_accumulation_steps} (梯度累积)\")\n",
    "logger.info(f\"训练轮数: {training_arguments.num_train_epochs}\")\n",
    "logger.info(f\"学习率: {training_arguments.learning_rate}\")\n",
    "logger.info(f\"LoRA秩维度: {peft_config.r}\")\n",
    "logger.info(f\"LoRA缩放因子: {peft_config.lora_alpha}\")\n",
    "logger.info(f\"使用4位量化: 是\")\n",
    "logger.info(f\"使用梯度检查点: {training_arguments.gradient_checkpointing}\")\n",
    "logger.info(f\"使用半精度训练: {training_arguments.fp16}\")\n",
    "\n",
    "# 开始训练\n",
    "train_result = trainer.train()\n",
    "\n",
    "# 训练完成，记录详细结果\n",
    "logger.info(f\"\\n=== 训练完成 | 时间: {datetime.now().strftime('%Y-%m-%d %H:%M:%S')} ===\")\n",
    "logger.info(f\"总训练时间: {train_result.metrics.get('train_runtime', 0)/60:.2f}分钟\")\n",
    "logger.info(f\"训练损失: {train_result.training_loss:.4f}\")\n",
    "logger.info(f\"训练步数: {train_result.global_step}\")\n",
    "logger.info(f\"训练速度: {train_result.metrics.get('train_samples_per_second', 0):.2f} 样本/秒\")\n",
    "logger.info(f\"训练吞吐量: {train_result.metrics.get('train_steps_per_second', 0):.2f} 步/秒\")\n",
    "\n",
    "# 保存模型\n",
    "peft_model_path = os.path.join(output_dir, \"final_model\")\n",
    "trainer.model.save_pretrained(peft_model_path)\n",
    "tokenizer.save_pretrained(peft_model_path)\n",
    "logger.info(f\"最终模型已保存到: {peft_model_path}\")\n",
    "\n",
    "# 最终评估\n",
    "logger.info(\"\\n执行最终模型评估...\")\n",
    "eval_results = trainer.evaluate()\n",
    "for key, value in eval_results.items():\n",
    "    logger.info(f\"{key}: {value}\")\n",
    "\n",
    "logger.info(\"\\n训练流程完成!\")"
   ]
  }
 ],
 "metadata": {
  "kernelspec": {
   "display_name": "Python 3 (ipykernel)",
   "language": "python",
   "name": "python3"
  },
  "language_info": {
   "codemirror_mode": {
    "name": "ipython",
    "version": 3
   },
   "file_extension": ".py",
   "mimetype": "text/x-python",
   "name": "python",
   "nbconvert_exporter": "python",
   "pygments_lexer": "ipython3",
   "version": "3.10.8"
  }
 },
 "nbformat": 4,
 "nbformat_minor": 5
}
