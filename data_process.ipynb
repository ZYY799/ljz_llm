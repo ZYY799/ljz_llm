import random

input_file = r"F:\LLM\lora_finetune_dataset_functioncall.jsonl"
output_file = r"F:\LLM\lora_finetune_dataset_functioncall_sample600.jsonl"

with open(input_file, 'r', encoding='utf-8') as f:
    lines = f.readlines()
num = 500
if len(lines) < num:
    raise ValueError("数据不足600条，当前仅有{}条数据。".format(len(lines)))

sample_lines = random.sample(lines, num)

with open(output_file, 'w', encoding='utf-8') as f:
    for line in sample_lines:
        f.write(line)
print("成功抽取600条数据并保存到：", output_file)
